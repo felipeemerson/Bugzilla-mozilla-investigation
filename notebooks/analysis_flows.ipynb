{
 "cells": [
  {
   "cell_type": "markdown",
   "metadata": {},
   "source": [
    "# Fluxos de mudanças"
   ]
  },
  {
   "cell_type": "markdown",
   "metadata": {},
   "source": [
    "## Importações"
   ]
  },
  {
   "cell_type": "code",
   "execution_count": 1,
   "metadata": {},
   "outputs": [],
   "source": [
    "import json\n",
    "import pandas as pd\n",
    "import matplotlib.pyplot as plt\n",
    "import numpy as np\n",
    "import seaborn as sns\n",
    "%matplotlib inline\n",
    "\n",
    "plt.style.use('ggplot')\n",
    "pd.set_option('display.float_format', lambda x: '%.2f' % x)\n",
    "\n",
    "df_bugs = pd.read_json('processed_bugs_flows_equal.json')\n",
    "df_bugs = df_bugs.drop(columns=['bug_id'])"
   ]
  },
  {
   "cell_type": "markdown",
   "metadata": {},
   "source": [
    "## 1. Status"
   ]
  },
  {
   "cell_type": "markdown",
   "metadata": {},
   "source": [
    "### 1.1 Quantidade de fluxos únicos"
   ]
  },
  {
   "cell_type": "code",
   "execution_count": 23,
   "metadata": {},
   "outputs": [
    {
     "data": {
      "text/plain": [
       "487"
      ]
     },
     "execution_count": 23,
     "metadata": {},
     "output_type": "execute_result"
    }
   ],
   "source": [
    "total_status_flows = df_bugs['status'].nunique()\n",
    "total_status_flows"
   ]
  },
  {
   "cell_type": "markdown",
   "metadata": {},
   "source": [
    "### 1.2 Os 10 fluxos mais comuns"
   ]
  },
  {
   "cell_type": "code",
   "execution_count": 14,
   "metadata": {},
   "outputs": [
    {
     "data": {
      "text/plain": [
       "NEW/RESOLVED                                        411990\n",
       "UNCONFIRMED/RESOLVED                                 89268\n",
       "NEW/ASSIGNED/RESOLVED                                84424\n",
       "ASSIGNED/RESOLVED                                    36188\n",
       "NEW/RESOLVED/REOPENED/RESOLVED                       19315\n",
       "UNCONFIRMED/NEW/RESOLVED                             17598\n",
       "UNCONFIRMED/ASSIGNED/RESOLVED                         4632\n",
       "UNCONFIRMED/NEW/ASSIGNED/RESOLVED                     3562\n",
       "NEW/RESOLVED/REOPENED/RESOLVED/REOPENED/RESOLVED      3432\n",
       "NEW/ASSIGNED/RESOLVED/REOPENED/RESOLVED               3101\n",
       "Name: status, dtype: int64"
      ]
     },
     "execution_count": 14,
     "metadata": {},
     "output_type": "execute_result"
    }
   ],
   "source": [
    "df_bugs['status'].value_counts().head(10)"
   ]
  },
  {
   "cell_type": "markdown",
   "metadata": {},
   "source": [
    "### 1.3 Percentual"
   ]
  },
  {
   "cell_type": "code",
   "execution_count": 31,
   "metadata": {},
   "outputs": [
    {
     "data": {
      "text/plain": [
       "NEW/RESOLVED                                       59.64\n",
       "UNCONFIRMED/RESOLVED                               12.92\n",
       "NEW/ASSIGNED/RESOLVED                              12.22\n",
       "ASSIGNED/RESOLVED                                   5.24\n",
       "NEW/RESOLVED/REOPENED/RESOLVED                      2.80\n",
       "UNCONFIRMED/NEW/RESOLVED                            2.55\n",
       "UNCONFIRMED/ASSIGNED/RESOLVED                       0.67\n",
       "UNCONFIRMED/NEW/ASSIGNED/RESOLVED                   0.52\n",
       "NEW/RESOLVED/REOPENED/RESOLVED/REOPENED/RESOLVED    0.50\n",
       "NEW/ASSIGNED/RESOLVED/REOPENED/RESOLVED             0.45\n",
       "Name: status, dtype: float64"
      ]
     },
     "execution_count": 31,
     "metadata": {},
     "output_type": "execute_result"
    }
   ],
   "source": [
    "df_status_flows_percentage = (df_bugs['status'].value_counts(normalize=True) * 100)\n",
    "df_status_flows_percentage.head(10)"
   ]
  },
  {
   "cell_type": "markdown",
   "metadata": {},
   "source": [
    "## 2. Resolution"
   ]
  },
  {
   "cell_type": "markdown",
   "metadata": {},
   "source": [
    "### 2.1 Quantidade de fluxos únicos"
   ]
  },
  {
   "cell_type": "code",
   "execution_count": 15,
   "metadata": {},
   "outputs": [
    {
     "data": {
      "text/plain": [
       "941"
      ]
     },
     "execution_count": 15,
     "metadata": {},
     "output_type": "execute_result"
    }
   ],
   "source": [
    "df_bugs['resolution'].nunique()"
   ]
  },
  {
   "cell_type": "markdown",
   "metadata": {},
   "source": [
    "### 2.2 Os 10 fluxos mais comuns"
   ]
  },
  {
   "cell_type": "code",
   "execution_count": 35,
   "metadata": {},
   "outputs": [
    {
     "data": {
      "text/plain": [
       "/FIXED                                 351455\n",
       "/DUPLICATE                              85282\n",
       "/WONTFIX                                57720\n",
       "/INCOMPLETE                             54177\n",
       "/WORKSFORME                             49543\n",
       "/INVALID                                45850\n",
       "/FIXED//FIXED                           12391\n",
       "/INCOMPLETE//INCOMPLETE                  5139\n",
       "/INACTIVE                                2725\n",
       "/INCOMPLETE//INCOMPLETE//INCOMPLETE      1882\n",
       "Name: resolution, dtype: int64"
      ]
     },
     "execution_count": 35,
     "metadata": {},
     "output_type": "execute_result"
    }
   ],
   "source": [
    "df_bugs['resolution'].value_counts().head(10)"
   ]
  },
  {
   "cell_type": "markdown",
   "metadata": {},
   "source": [
    "### 2.3 Percentual"
   ]
  },
  {
   "cell_type": "code",
   "execution_count": 36,
   "metadata": {},
   "outputs": [
    {
     "data": {
      "text/plain": [
       "/FIXED                                50.88\n",
       "/DUPLICATE                            12.35\n",
       "/WONTFIX                               8.36\n",
       "/INCOMPLETE                            7.84\n",
       "/WORKSFORME                            7.17\n",
       "/INVALID                               6.64\n",
       "/FIXED//FIXED                          1.79\n",
       "/INCOMPLETE//INCOMPLETE                0.74\n",
       "/INACTIVE                              0.39\n",
       "/INCOMPLETE//INCOMPLETE//INCOMPLETE    0.27\n",
       "Name: resolution, dtype: float64"
      ]
     },
     "execution_count": 36,
     "metadata": {},
     "output_type": "execute_result"
    }
   ],
   "source": [
    "df_resolution_flows_percentage = (df_bugs['resolution'].value_counts(normalize=True) * 100)\n",
    "df_resolution_flows_percentage.head(10)"
   ]
  },
  {
   "cell_type": "markdown",
   "metadata": {},
   "source": [
    "## 3. Priority"
   ]
  },
  {
   "cell_type": "markdown",
   "metadata": {},
   "source": [
    "### 3.1 Quantidade de fluxos únicos"
   ]
  },
  {
   "cell_type": "code",
   "execution_count": 5,
   "metadata": {},
   "outputs": [
    {
     "data": {
      "text/plain": [
       "904"
      ]
     },
     "execution_count": 5,
     "metadata": {},
     "output_type": "execute_result"
    }
   ],
   "source": [
    "df_bugs[df_bugs.priority != '']['priority'].nunique()"
   ]
  },
  {
   "cell_type": "markdown",
   "metadata": {},
   "source": [
    "### 3.2 Os 10 fluxos mais comuns"
   ]
  },
  {
   "cell_type": "code",
   "execution_count": 6,
   "metadata": {},
   "outputs": [
    {
     "data": {
      "text/plain": [
       "--/P3       36222\n",
       "--/P2       22838\n",
       "--/P1       21707\n",
       "--/P5        8263\n",
       "--/P4        3026\n",
       "--/P2/P1     2054\n",
       "--/P2/P3     1652\n",
       "--/P3/P1     1361\n",
       "--/P3/P5     1300\n",
       "--/P1/P2     1114\n",
       "Name: priority, dtype: int64"
      ]
     },
     "execution_count": 6,
     "metadata": {},
     "output_type": "execute_result"
    }
   ],
   "source": [
    "df_bugs[df_bugs.priority != '']['priority'].value_counts().head(10)"
   ]
  },
  {
   "cell_type": "markdown",
   "metadata": {},
   "source": [
    "### 3.3 Percentual"
   ]
  },
  {
   "cell_type": "code",
   "execution_count": 7,
   "metadata": {},
   "outputs": [
    {
     "data": {
      "text/plain": [
       "--/P3      30.84\n",
       "--/P2      19.45\n",
       "--/P1      18.48\n",
       "--/P5       7.04\n",
       "--/P4       2.58\n",
       "--/P2/P1    1.75\n",
       "--/P2/P3    1.41\n",
       "--/P3/P1    1.16\n",
       "--/P3/P5    1.11\n",
       "--/P1/P2    0.95\n",
       "Name: priority, dtype: float64"
      ]
     },
     "execution_count": 7,
     "metadata": {},
     "output_type": "execute_result"
    }
   ],
   "source": [
    "df_priority_flows_percentage = (df_bugs[df_bugs.priority != '']['priority'].value_counts(normalize=True) * 100)\n",
    "df_priority_flows_percentage.head(10)"
   ]
  },
  {
   "cell_type": "markdown",
   "metadata": {},
   "source": [
    "## 4. Severity"
   ]
  },
  {
   "cell_type": "markdown",
   "metadata": {},
   "source": [
    "### 4.1 Quantidade de fluxos únicos"
   ]
  },
  {
   "cell_type": "code",
   "execution_count": 8,
   "metadata": {},
   "outputs": [
    {
     "data": {
      "text/plain": [
       "439"
      ]
     },
     "execution_count": 8,
     "metadata": {},
     "output_type": "execute_result"
    }
   ],
   "source": [
    "df_bugs[df_bugs.severity != '']['severity'].nunique()"
   ]
  },
  {
   "cell_type": "markdown",
   "metadata": {},
   "source": [
    "### 4.2 Os 10 fluxos mais comuns"
   ]
  },
  {
   "cell_type": "code",
   "execution_count": 9,
   "metadata": {},
   "outputs": [
    {
     "data": {
      "text/plain": [
       "--/S3                 5131\n",
       "normal/enhancement    4790\n",
       "normal/critical       4325\n",
       "normal/major          3418\n",
       "normal/minor          1796\n",
       "--/N/A                1582\n",
       "--/S4                 1457\n",
       "--/S2                 1305\n",
       "normal/blocker        1061\n",
       "normal/S3              649\n",
       "Name: severity, dtype: int64"
      ]
     },
     "execution_count": 9,
     "metadata": {},
     "output_type": "execute_result"
    }
   ],
   "source": [
    "df_bugs[df_bugs.severity != '']['severity'].value_counts().head(10)"
   ]
  },
  {
   "cell_type": "markdown",
   "metadata": {},
   "source": [
    "### 4.3 Percentual"
   ]
  },
  {
   "cell_type": "code",
   "execution_count": 10,
   "metadata": {},
   "outputs": [
    {
     "data": {
      "text/plain": [
       "--/S3                15.57\n",
       "normal/enhancement   14.53\n",
       "normal/critical      13.12\n",
       "normal/major         10.37\n",
       "normal/minor          5.45\n",
       "--/N/A                4.80\n",
       "--/S4                 4.42\n",
       "--/S2                 3.96\n",
       "normal/blocker        3.22\n",
       "normal/S3             1.97\n",
       "Name: severity, dtype: float64"
      ]
     },
     "execution_count": 10,
     "metadata": {},
     "output_type": "execute_result"
    }
   ],
   "source": [
    "df_severity_flows_percentage = (df_bugs[df_bugs.severity != '']['severity'].value_counts(normalize=True) * 100)\n",
    "df_severity_flows_percentage.head(10)"
   ]
  },
  {
   "cell_type": "markdown",
   "metadata": {},
   "source": [
    "## 5. Type"
   ]
  },
  {
   "cell_type": "markdown",
   "metadata": {},
   "source": [
    "### 5.1 Quantidade de fluxos únicos"
   ]
  },
  {
   "cell_type": "code",
   "execution_count": 11,
   "metadata": {},
   "outputs": [
    {
     "data": {
      "text/plain": [
       "47"
      ]
     },
     "execution_count": 11,
     "metadata": {},
     "output_type": "execute_result"
    }
   ],
   "source": [
    "df_bugs[df_bugs.type != '']['type'].nunique()"
   ]
  },
  {
   "cell_type": "markdown",
   "metadata": {},
   "source": [
    "### 5.2 Os 10 fluxos mais comuns"
   ]
  },
  {
   "cell_type": "code",
   "execution_count": 13,
   "metadata": {},
   "outputs": [
    {
     "data": {
      "text/plain": [
       "defect/task                  2500\n",
       "defect/enhancement           1717\n",
       "enhancement/task             1471\n",
       "task/defect                   644\n",
       "--/defect                     600\n",
       "enhancement/defect            583\n",
       "--/task                       299\n",
       "task/enhancement              293\n",
       "defect/task/defect            100\n",
       "defect/enhancement/defect      60\n",
       "Name: type, dtype: int64"
      ]
     },
     "execution_count": 13,
     "metadata": {},
     "output_type": "execute_result"
    }
   ],
   "source": [
    "df_bugs[df_bugs.type != '']['type'].value_counts().head(10)"
   ]
  },
  {
   "cell_type": "markdown",
   "metadata": {},
   "source": [
    "### 5.3 Percentual"
   ]
  },
  {
   "cell_type": "code",
   "execution_count": 14,
   "metadata": {},
   "outputs": [
    {
     "data": {
      "text/plain": [
       "defect/task                 29.40\n",
       "defect/enhancement          20.19\n",
       "enhancement/task            17.30\n",
       "task/defect                  7.57\n",
       "--/defect                    7.06\n",
       "enhancement/defect           6.86\n",
       "--/task                      3.52\n",
       "task/enhancement             3.45\n",
       "defect/task/defect           1.18\n",
       "defect/enhancement/defect    0.71\n",
       "Name: type, dtype: float64"
      ]
     },
     "execution_count": 14,
     "metadata": {},
     "output_type": "execute_result"
    }
   ],
   "source": [
    "df_type_flows_percentage = (df_bugs[df_bugs.type != '']['type'].value_counts(normalize=True) * 100)\n",
    "df_type_flows_percentage.head(10)"
   ]
  }
 ],
 "metadata": {
  "kernelspec": {
   "display_name": "Python 3.9.13 64-bit",
   "language": "python",
   "name": "python3"
  },
  "language_info": {
   "codemirror_mode": {
    "name": "ipython",
    "version": 3
   },
   "file_extension": ".py",
   "mimetype": "text/x-python",
   "name": "python",
   "nbconvert_exporter": "python",
   "pygments_lexer": "ipython3",
   "version": "3.9.13"
  },
  "orig_nbformat": 4,
  "vscode": {
   "interpreter": {
    "hash": "1f2de058d7ebaa32d79cad43f3c868bd4b0213631c06cc735fbd6f200c37b41b"
   }
  }
 },
 "nbformat": 4,
 "nbformat_minor": 2
}
