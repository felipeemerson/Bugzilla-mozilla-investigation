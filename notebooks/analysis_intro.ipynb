{
 "cells": [
  {
   "cell_type": "markdown",
   "metadata": {},
   "source": [
    "# Caracterização das mudanças em bug reports\n",
    "\n",
    "## Base\n",
    "A base de dados é composta por 690.817 bug reports.\n",
    "\n",
    "## Filtro da base\n",
    "*   Product: todos\n",
    "*   Status: RESOLVED\n",
    "*   Data de criação do bug report: entre 01/01/2013 e 01/01/2022\n"
   ]
  },
  {
   "cell_type": "markdown",
   "metadata": {},
   "source": [
    "## Importações"
   ]
  },
  {
   "cell_type": "code",
   "execution_count": 1,
   "metadata": {},
   "outputs": [],
   "source": [
    "import json\n",
    "import pandas as pd\n",
    "import matplotlib.pyplot as plt\n",
    "import numpy as np\n",
    "import seaborn as sns\n",
    "%matplotlib inline\n",
    "\n",
    "plt.style.use('ggplot')\n",
    "pd.set_option('display.float_format', lambda x: '%.2f' % x)\n",
    "\n",
    "df_bugs = pd.read_json('processed_cf_notcf_counting_final.json')\n",
    "df_fields = pd.read_json('processed_verify_fields_final.json')\n",
    "\n",
    "df_fields = df_fields.drop(columns=['bug_id'])\n",
    "df_bugs = df_bugs.drop(columns=['bug_id'])"
   ]
  },
  {
   "cell_type": "markdown",
   "metadata": {},
   "source": [
    "## 1. Total de campos únicos que registraram ao menos uma modificação na base de dados"
   ]
  },
  {
   "cell_type": "code",
   "execution_count": 2,
   "metadata": {},
   "outputs": [
    {
     "data": {
      "text/plain": [
       "617"
      ]
     },
     "execution_count": 2,
     "metadata": {},
     "output_type": "execute_result"
    }
   ],
   "source": [
    "total_fields = len(df_fields)\n",
    "total_fields"
   ]
  },
  {
   "cell_type": "markdown",
   "metadata": {},
   "source": [
    "## 2. Total de campos *custom field* e total de campos não *custom field*"
   ]
  },
  {
   "cell_type": "code",
   "execution_count": 3,
   "metadata": {},
   "outputs": [
    {
     "name": "stdout",
     "output_type": "stream",
     "text": [
      "Total de custom fields: 578\n",
      "Total de não custom fields: 39\n",
      "Porcentagem de custom fields:  93.68%\n",
      "Porcentagem de não custom fields:  6.32%\n"
     ]
    }
   ],
   "source": [
    "total_nom_custom_fields = df_fields.query('~ (name.str.startswith(\"cf_\"))', engine='python').size\n",
    "total_custom_fields = df_fields.query('name.str.startswith(\"cf_\")', engine='python').size\n",
    "\n",
    "print(f'Total de custom fields: {total_custom_fields}')\n",
    "print(f'Total de não custom fields: {total_nom_custom_fields}')\n",
    "print(f'Porcentagem de custom fields: {(total_custom_fields / total_fields) * 100: ,.2f}%')\n",
    "print(f'Porcentagem de não custom fields: {(total_nom_custom_fields / total_fields) * 100: ,.2f}%')"
   ]
  },
  {
   "cell_type": "markdown",
   "metadata": {},
   "source": [
    "## 3. Estatísticas do total de modificações por bug report para os campos *custom field* e para os campos não *custom field*"
   ]
  },
  {
   "cell_type": "code",
   "execution_count": 4,
   "metadata": {},
   "outputs": [
    {
     "data": {
      "text/html": [
       "<div>\n",
       "<style scoped>\n",
       "    .dataframe tbody tr th:only-of-type {\n",
       "        vertical-align: middle;\n",
       "    }\n",
       "\n",
       "    .dataframe tbody tr th {\n",
       "        vertical-align: top;\n",
       "    }\n",
       "\n",
       "    .dataframe thead th {\n",
       "        text-align: right;\n",
       "    }\n",
       "</style>\n",
       "<table border=\"1\" class=\"dataframe\">\n",
       "  <thead>\n",
       "    <tr style=\"text-align: right;\">\n",
       "      <th></th>\n",
       "      <th>custom_field</th>\n",
       "      <th>not_custom_field</th>\n",
       "    </tr>\n",
       "  </thead>\n",
       "  <tbody>\n",
       "    <tr>\n",
       "      <th>count</th>\n",
       "      <td>690817.00</td>\n",
       "      <td>690817.00</td>\n",
       "    </tr>\n",
       "    <tr>\n",
       "      <th>mean</th>\n",
       "      <td>2.04</td>\n",
       "      <td>12.24</td>\n",
       "    </tr>\n",
       "    <tr>\n",
       "      <th>std</th>\n",
       "      <td>2.42</td>\n",
       "      <td>15.20</td>\n",
       "    </tr>\n",
       "    <tr>\n",
       "      <th>min</th>\n",
       "      <td>1.00</td>\n",
       "      <td>2.00</td>\n",
       "    </tr>\n",
       "    <tr>\n",
       "      <th>25%</th>\n",
       "      <td>1.00</td>\n",
       "      <td>5.00</td>\n",
       "    </tr>\n",
       "    <tr>\n",
       "      <th>50%</th>\n",
       "      <td>1.00</td>\n",
       "      <td>8.00</td>\n",
       "    </tr>\n",
       "    <tr>\n",
       "      <th>75%</th>\n",
       "      <td>2.00</td>\n",
       "      <td>14.00</td>\n",
       "    </tr>\n",
       "    <tr>\n",
       "      <th>max</th>\n",
       "      <td>94.00</td>\n",
       "      <td>1793.00</td>\n",
       "    </tr>\n",
       "  </tbody>\n",
       "</table>\n",
       "</div>"
      ],
      "text/plain": [
       "       custom_field  not_custom_field\n",
       "count     690817.00         690817.00\n",
       "mean           2.04             12.24\n",
       "std            2.42             15.20\n",
       "min            1.00              2.00\n",
       "25%            1.00              5.00\n",
       "50%            1.00              8.00\n",
       "75%            2.00             14.00\n",
       "max           94.00           1793.00"
      ]
     },
     "execution_count": 4,
     "metadata": {},
     "output_type": "execute_result"
    }
   ],
   "source": [
    "df_bugs.columns = ['custom_field', 'not_custom_field']\n",
    "df_bugs.describe()"
   ]
  },
  {
   "cell_type": "markdown",
   "metadata": {},
   "source": [
    "## 4. Considerando todas as modificações sejam elas *custom field* ou não"
   ]
  },
  {
   "cell_type": "code",
   "execution_count": 5,
   "metadata": {},
   "outputs": [
    {
     "data": {
      "text/plain": [
       "count   690817.00\n",
       "mean        14.29\n",
       "std         16.25\n",
       "min          3.00\n",
       "25%          6.00\n",
       "50%         10.00\n",
       "75%         17.00\n",
       "max       1796.00\n",
       "dtype: float64"
      ]
     },
     "execution_count": 5,
     "metadata": {},
     "output_type": "execute_result"
    }
   ],
   "source": [
    "all_bugs = df_bugs['custom_field'] + df_bugs['not_custom_field']\n",
    "all_bugs.describe()"
   ]
  },
  {
   "cell_type": "markdown",
   "metadata": {},
   "source": [
    "## 5. Campos *custom field* que não são específicos de versões de produto"
   ]
  },
  {
   "cell_type": "markdown",
   "metadata": {},
   "source": [
    "### 5.1 Total de campos"
   ]
  },
  {
   "cell_type": "code",
   "execution_count": 6,
   "metadata": {},
   "outputs": [
    {
     "data": {
      "text/plain": [
       "34"
      ]
     },
     "execution_count": 6,
     "metadata": {},
     "output_type": "execute_result"
    }
   ],
   "source": [
    "df_cf_not_version = df_fields.query('(~ (name.str.startswith(\"cf_status\") or name.str.startswith(\"cf_tracking\"))) and name.str.startswith(\"cf_\")', engine='python').reset_index(drop=True)\n",
    "len(df_cf_not_version)"
   ]
  },
  {
   "cell_type": "markdown",
   "metadata": {},
   "source": [
    "### 5.2 Nome dos campos"
   ]
  },
  {
   "cell_type": "code",
   "execution_count": 7,
   "metadata": {},
   "outputs": [
    {
     "data": {
      "text/html": [
       "<div>\n",
       "<style scoped>\n",
       "    .dataframe tbody tr th:only-of-type {\n",
       "        vertical-align: middle;\n",
       "    }\n",
       "\n",
       "    .dataframe tbody tr th {\n",
       "        vertical-align: top;\n",
       "    }\n",
       "\n",
       "    .dataframe thead th {\n",
       "        text-align: right;\n",
       "    }\n",
       "</style>\n",
       "<table border=\"1\" class=\"dataframe\">\n",
       "  <thead>\n",
       "    <tr style=\"text-align: right;\">\n",
       "      <th></th>\n",
       "      <th>name</th>\n",
       "    </tr>\n",
       "  </thead>\n",
       "  <tbody>\n",
       "    <tr>\n",
       "      <th>0</th>\n",
       "      <td>cf_last_resolved</td>\n",
       "    </tr>\n",
       "    <tr>\n",
       "      <th>1</th>\n",
       "      <td>cf_crash_signature</td>\n",
       "    </tr>\n",
       "    <tr>\n",
       "      <th>2</th>\n",
       "      <td>cf_colo_site</td>\n",
       "    </tr>\n",
       "    <tr>\n",
       "      <th>3</th>\n",
       "      <td>cf_blocking_basecamp</td>\n",
       "    </tr>\n",
       "    <tr>\n",
       "      <th>4</th>\n",
       "      <td>cf_blocking_b2g</td>\n",
       "    </tr>\n",
       "    <tr>\n",
       "      <th>5</th>\n",
       "      <td>cf_rank</td>\n",
       "    </tr>\n",
       "    <tr>\n",
       "      <th>6</th>\n",
       "      <td>cf_backlog</td>\n",
       "    </tr>\n",
       "    <tr>\n",
       "      <th>7</th>\n",
       "      <td>cf_blocking_fennec</td>\n",
       "    </tr>\n",
       "    <tr>\n",
       "      <th>8</th>\n",
       "      <td>cf_qa_whiteboard</td>\n",
       "    </tr>\n",
       "    <tr>\n",
       "      <th>9</th>\n",
       "      <td>cf_performance</td>\n",
       "    </tr>\n",
       "    <tr>\n",
       "      <th>10</th>\n",
       "      <td>cf_platform_rel</td>\n",
       "    </tr>\n",
       "    <tr>\n",
       "      <th>11</th>\n",
       "      <td>cf_locale</td>\n",
       "    </tr>\n",
       "    <tr>\n",
       "      <th>12</th>\n",
       "      <td>cf_user_story</td>\n",
       "    </tr>\n",
       "    <tr>\n",
       "      <th>13</th>\n",
       "      <td>cf_blocking_kilimanjaro</td>\n",
       "    </tr>\n",
       "    <tr>\n",
       "      <th>14</th>\n",
       "      <td>cf_webcompat_priority</td>\n",
       "    </tr>\n",
       "    <tr>\n",
       "      <th>15</th>\n",
       "      <td>cf_fx_points</td>\n",
       "    </tr>\n",
       "    <tr>\n",
       "      <th>16</th>\n",
       "      <td>cf_ux_b2g</td>\n",
       "    </tr>\n",
       "    <tr>\n",
       "      <th>17</th>\n",
       "      <td>cf_feature_b2g</td>\n",
       "    </tr>\n",
       "    <tr>\n",
       "      <th>18</th>\n",
       "      <td>cf_fx_iteration</td>\n",
       "    </tr>\n",
       "    <tr>\n",
       "      <th>19</th>\n",
       "      <td>cf_has_str</td>\n",
       "    </tr>\n",
       "    <tr>\n",
       "      <th>20</th>\n",
       "      <td>cf_b2g_ota_blocker</td>\n",
       "    </tr>\n",
       "    <tr>\n",
       "      <th>21</th>\n",
       "      <td>cf_blocking_fx</td>\n",
       "    </tr>\n",
       "    <tr>\n",
       "      <th>22</th>\n",
       "      <td>cf_office</td>\n",
       "    </tr>\n",
       "    <tr>\n",
       "      <th>23</th>\n",
       "      <td>cf_has_regression_range</td>\n",
       "    </tr>\n",
       "    <tr>\n",
       "      <th>24</th>\n",
       "      <td>cf_cab_review</td>\n",
       "    </tr>\n",
       "    <tr>\n",
       "      <th>25</th>\n",
       "      <td>cf_due_date</td>\n",
       "    </tr>\n",
       "    <tr>\n",
       "      <th>26</th>\n",
       "      <td>cf_fission_milestone</td>\n",
       "    </tr>\n",
       "    <tr>\n",
       "      <th>27</th>\n",
       "      <td>cf_blocking_webextensions</td>\n",
       "    </tr>\n",
       "    <tr>\n",
       "      <th>28</th>\n",
       "      <td>cf_root_cause</td>\n",
       "    </tr>\n",
       "    <tr>\n",
       "      <th>29</th>\n",
       "      <td>cf_install_update_workflow</td>\n",
       "    </tr>\n",
       "    <tr>\n",
       "      <th>30</th>\n",
       "      <td>cf_data_science_status</td>\n",
       "    </tr>\n",
       "    <tr>\n",
       "      <th>31</th>\n",
       "      <td>cf_bmo_component_move</td>\n",
       "    </tr>\n",
       "    <tr>\n",
       "      <th>32</th>\n",
       "      <td>cf_data_science_product_support_area</td>\n",
       "    </tr>\n",
       "    <tr>\n",
       "      <th>33</th>\n",
       "      <td>cf_a11y_review_project_flag</td>\n",
       "    </tr>\n",
       "  </tbody>\n",
       "</table>\n",
       "</div>"
      ],
      "text/plain": [
       "                                    name\n",
       "0                       cf_last_resolved\n",
       "1                     cf_crash_signature\n",
       "2                           cf_colo_site\n",
       "3                   cf_blocking_basecamp\n",
       "4                        cf_blocking_b2g\n",
       "5                                cf_rank\n",
       "6                             cf_backlog\n",
       "7                     cf_blocking_fennec\n",
       "8                       cf_qa_whiteboard\n",
       "9                         cf_performance\n",
       "10                       cf_platform_rel\n",
       "11                             cf_locale\n",
       "12                         cf_user_story\n",
       "13               cf_blocking_kilimanjaro\n",
       "14                 cf_webcompat_priority\n",
       "15                          cf_fx_points\n",
       "16                             cf_ux_b2g\n",
       "17                        cf_feature_b2g\n",
       "18                       cf_fx_iteration\n",
       "19                            cf_has_str\n",
       "20                    cf_b2g_ota_blocker\n",
       "21                        cf_blocking_fx\n",
       "22                             cf_office\n",
       "23               cf_has_regression_range\n",
       "24                         cf_cab_review\n",
       "25                           cf_due_date\n",
       "26                  cf_fission_milestone\n",
       "27             cf_blocking_webextensions\n",
       "28                         cf_root_cause\n",
       "29            cf_install_update_workflow\n",
       "30                cf_data_science_status\n",
       "31                 cf_bmo_component_move\n",
       "32  cf_data_science_product_support_area\n",
       "33           cf_a11y_review_project_flag"
      ]
     },
     "execution_count": 7,
     "metadata": {},
     "output_type": "execute_result"
    }
   ],
   "source": [
    "df_cf_not_version"
   ]
  },
  {
   "cell_type": "markdown",
   "metadata": {},
   "source": [
    "## 6. Os 10 campos *custom field* com mais presença na base (campos de versão foram filtrados)"
   ]
  },
  {
   "cell_type": "code",
   "execution_count": 8,
   "metadata": {},
   "outputs": [
    {
     "data": {
      "text/html": [
       "<div>\n",
       "<style scoped>\n",
       "    .dataframe tbody tr th:only-of-type {\n",
       "        vertical-align: middle;\n",
       "    }\n",
       "\n",
       "    .dataframe tbody tr th {\n",
       "        vertical-align: top;\n",
       "    }\n",
       "\n",
       "    .dataframe thead th {\n",
       "        text-align: right;\n",
       "    }\n",
       "</style>\n",
       "<table border=\"1\" class=\"dataframe\">\n",
       "  <thead>\n",
       "    <tr style=\"text-align: right;\">\n",
       "      <th></th>\n",
       "      <th>custom_field_name</th>\n",
       "      <th>percentage</th>\n",
       "    </tr>\n",
       "  </thead>\n",
       "  <tbody>\n",
       "    <tr>\n",
       "      <th>0</th>\n",
       "      <td>cf_last_resolved</td>\n",
       "      <td>100.00</td>\n",
       "    </tr>\n",
       "    <tr>\n",
       "      <th>1</th>\n",
       "      <td>cf_blocking_b2g</td>\n",
       "      <td>2.48</td>\n",
       "    </tr>\n",
       "    <tr>\n",
       "      <th>2</th>\n",
       "      <td>cf_qa_whiteboard</td>\n",
       "      <td>1.68</td>\n",
       "    </tr>\n",
       "    <tr>\n",
       "      <th>3</th>\n",
       "      <td>cf_has_regression_range</td>\n",
       "      <td>1.61</td>\n",
       "    </tr>\n",
       "    <tr>\n",
       "      <th>4</th>\n",
       "      <td>cf_crash_signature</td>\n",
       "      <td>0.96</td>\n",
       "    </tr>\n",
       "    <tr>\n",
       "      <th>5</th>\n",
       "      <td>cf_fx_iteration</td>\n",
       "      <td>0.91</td>\n",
       "    </tr>\n",
       "    <tr>\n",
       "      <th>6</th>\n",
       "      <td>cf_rank</td>\n",
       "      <td>0.82</td>\n",
       "    </tr>\n",
       "    <tr>\n",
       "      <th>7</th>\n",
       "      <td>cf_fx_points</td>\n",
       "      <td>0.81</td>\n",
       "    </tr>\n",
       "    <tr>\n",
       "      <th>8</th>\n",
       "      <td>cf_has_str</td>\n",
       "      <td>0.59</td>\n",
       "    </tr>\n",
       "    <tr>\n",
       "      <th>9</th>\n",
       "      <td>cf_blocking_fennec</td>\n",
       "      <td>0.57</td>\n",
       "    </tr>\n",
       "  </tbody>\n",
       "</table>\n",
       "</div>"
      ],
      "text/plain": [
       "         custom_field_name  percentage\n",
       "0         cf_last_resolved      100.00\n",
       "1          cf_blocking_b2g        2.48\n",
       "2         cf_qa_whiteboard        1.68\n",
       "3  cf_has_regression_range        1.61\n",
       "4       cf_crash_signature        0.96\n",
       "5          cf_fx_iteration        0.91\n",
       "6                  cf_rank        0.82\n",
       "7             cf_fx_points        0.81\n",
       "8               cf_has_str        0.59\n",
       "9       cf_blocking_fennec        0.57"
      ]
     },
     "execution_count": 8,
     "metadata": {},
     "output_type": "execute_result"
    }
   ],
   "source": [
    "DATABASE_SIZE = 690817\n",
    "\n",
    "with open('processed_bugs_cfs_presence.json') as input:\n",
    "  cf_fields_presence_dict = json.load(input)\n",
    "\n",
    "cf_fields_presence_list = []\n",
    "\n",
    "for key in cf_fields_presence_dict.keys():\n",
    "  cf_fields_presence_list.append({\n",
    "    'custom_field_name': key,\n",
    "    'percentage': (cf_fields_presence_dict[key]/DATABASE_SIZE) * 100\n",
    "  })\n",
    "\n",
    "df_cfs_percentage = pd.DataFrame(cf_fields_presence_list)\n",
    "\n",
    "df_cfs_percentage_filtered = df_cfs_percentage.query('~ (custom_field_name.str.startswith(\"cf_status\") or custom_field_name.str.startswith(\"cf_tracking\"))', engine='python')\n",
    "df_cfs_percentage_filtered.sort_values(ascending=False, by='percentage').head(10).reset_index(drop=True)"
   ]
  }
 ],
 "metadata": {
  "kernelspec": {
   "display_name": "Python 3.9.13 64-bit",
   "language": "python",
   "name": "python3"
  },
  "language_info": {
   "codemirror_mode": {
    "name": "ipython",
    "version": 3
   },
   "file_extension": ".py",
   "mimetype": "text/x-python",
   "name": "python",
   "nbconvert_exporter": "python",
   "pygments_lexer": "ipython3",
   "version": "3.9.13"
  },
  "orig_nbformat": 4,
  "vscode": {
   "interpreter": {
    "hash": "1f2de058d7ebaa32d79cad43f3c868bd4b0213631c06cc735fbd6f200c37b41b"
   }
  }
 },
 "nbformat": 4,
 "nbformat_minor": 2
}
