{
 "cells": [
  {
   "cell_type": "markdown",
   "metadata": {},
   "source": [
    "# Análise dos campos não *custom field*\n",
    "\n",
    "## Campos usados\n",
    "Todos os campos que possuam registro de modificação em algum dos históricos de bugs da base e não sejam campos personalizados (*custom fields*). No total, são 39 campos.\n"
   ]
  },
  {
   "cell_type": "markdown",
   "metadata": {},
   "source": [
    "## Importações"
   ]
  },
  {
   "cell_type": "code",
   "execution_count": 1,
   "metadata": {},
   "outputs": [],
   "source": [
    "import json\n",
    "import pandas as pd\n",
    "import matplotlib.pyplot as plt\n",
    "import numpy as np\n",
    "import seaborn as sns\n",
    "%matplotlib inline\n",
    "\n",
    "plt.style.use('ggplot')\n",
    "pd.set_option('display.float_format', lambda x: '%.2f' % x)\n",
    "\n",
    "with open('data\\\\processed_fields_name_not_cf.json') as input:\n",
    "  fields = json.load(input)\n",
    "\n",
    "df_bugs = pd.read_json('data\\\\processed_bugs_counting_changes_final.json')\n",
    "df_relations = pd.read_json('data\\\\processed_bugs_counting_relations.json')\n",
    "\n",
    "fields_relations = ['assigned_to', 'component', 'product', 'priority', 'status', 'severity', 'platform', 'op_sys']\n",
    "df_relations = df_relations.merge(df_bugs[fields_relations + ['bug_id']], how='inner', on='bug_id')\n",
    "df_bugs = df_bugs.drop(columns=['bug_id'])\n",
    "df_relations = df_relations.drop(columns=['bug_id'])"
   ]
  },
  {
   "cell_type": "markdown",
   "metadata": {},
   "source": [
    "## 1. Estatísticas por campo\n",
    "Para cada bug report foi contado quantas modificações de cada campo ocorreram ao longo da sua vida."
   ]
  },
  {
   "cell_type": "markdown",
   "metadata": {},
   "source": [
    "### 1.1. Campos: cc, status, resolution, product, component, priority, whiteboard, assigned_to, flagtypes.name e target_milestone"
   ]
  },
  {
   "cell_type": "code",
   "execution_count": 2,
   "metadata": {},
   "outputs": [
    {
     "data": {
      "text/html": [
       "<div>\n",
       "<style scoped>\n",
       "    .dataframe tbody tr th:only-of-type {\n",
       "        vertical-align: middle;\n",
       "    }\n",
       "\n",
       "    .dataframe tbody tr th {\n",
       "        vertical-align: top;\n",
       "    }\n",
       "\n",
       "    .dataframe thead th {\n",
       "        text-align: right;\n",
       "    }\n",
       "</style>\n",
       "<table border=\"1\" class=\"dataframe\">\n",
       "  <thead>\n",
       "    <tr style=\"text-align: right;\">\n",
       "      <th></th>\n",
       "      <th>cc</th>\n",
       "      <th>status</th>\n",
       "      <th>resolution</th>\n",
       "      <th>product</th>\n",
       "      <th>component</th>\n",
       "      <th>priority</th>\n",
       "      <th>whiteboard</th>\n",
       "      <th>assigned_to</th>\n",
       "      <th>flagtypes.name</th>\n",
       "      <th>target_milestone</th>\n",
       "    </tr>\n",
       "  </thead>\n",
       "  <tbody>\n",
       "    <tr>\n",
       "      <th>count</th>\n",
       "      <td>690817.00</td>\n",
       "      <td>690817.00</td>\n",
       "      <td>690817.00</td>\n",
       "      <td>690817.00</td>\n",
       "      <td>690817.00</td>\n",
       "      <td>690817.00</td>\n",
       "      <td>690817.00</td>\n",
       "      <td>690817.00</td>\n",
       "      <td>690817.00</td>\n",
       "      <td>690817.00</td>\n",
       "    </tr>\n",
       "    <tr>\n",
       "      <th>mean</th>\n",
       "      <td>2.34</td>\n",
       "      <td>1.34</td>\n",
       "      <td>1.16</td>\n",
       "      <td>0.31</td>\n",
       "      <td>0.27</td>\n",
       "      <td>0.21</td>\n",
       "      <td>0.31</td>\n",
       "      <td>0.41</td>\n",
       "      <td>2.70</td>\n",
       "      <td>0.33</td>\n",
       "    </tr>\n",
       "    <tr>\n",
       "      <th>std</th>\n",
       "      <td>3.52</td>\n",
       "      <td>0.89</td>\n",
       "      <td>0.76</td>\n",
       "      <td>0.55</td>\n",
       "      <td>0.55</td>\n",
       "      <td>0.51</td>\n",
       "      <td>1.06</td>\n",
       "      <td>0.65</td>\n",
       "      <td>5.90</td>\n",
       "      <td>0.53</td>\n",
       "    </tr>\n",
       "    <tr>\n",
       "      <th>min</th>\n",
       "      <td>0.00</td>\n",
       "      <td>1.00</td>\n",
       "      <td>1.00</td>\n",
       "      <td>0.00</td>\n",
       "      <td>0.00</td>\n",
       "      <td>0.00</td>\n",
       "      <td>0.00</td>\n",
       "      <td>0.00</td>\n",
       "      <td>0.00</td>\n",
       "      <td>0.00</td>\n",
       "    </tr>\n",
       "    <tr>\n",
       "      <th>25%</th>\n",
       "      <td>1.00</td>\n",
       "      <td>1.00</td>\n",
       "      <td>1.00</td>\n",
       "      <td>0.00</td>\n",
       "      <td>0.00</td>\n",
       "      <td>0.00</td>\n",
       "      <td>0.00</td>\n",
       "      <td>0.00</td>\n",
       "      <td>0.00</td>\n",
       "      <td>0.00</td>\n",
       "    </tr>\n",
       "    <tr>\n",
       "      <th>50%</th>\n",
       "      <td>1.00</td>\n",
       "      <td>1.00</td>\n",
       "      <td>1.00</td>\n",
       "      <td>0.00</td>\n",
       "      <td>0.00</td>\n",
       "      <td>0.00</td>\n",
       "      <td>0.00</td>\n",
       "      <td>0.00</td>\n",
       "      <td>0.00</td>\n",
       "      <td>0.00</td>\n",
       "    </tr>\n",
       "    <tr>\n",
       "      <th>75%</th>\n",
       "      <td>3.00</td>\n",
       "      <td>1.00</td>\n",
       "      <td>1.00</td>\n",
       "      <td>1.00</td>\n",
       "      <td>0.00</td>\n",
       "      <td>0.00</td>\n",
       "      <td>0.00</td>\n",
       "      <td>1.00</td>\n",
       "      <td>3.00</td>\n",
       "      <td>1.00</td>\n",
       "    </tr>\n",
       "    <tr>\n",
       "      <th>max</th>\n",
       "      <td>773.00</td>\n",
       "      <td>39.00</td>\n",
       "      <td>39.00</td>\n",
       "      <td>7.00</td>\n",
       "      <td>11.00</td>\n",
       "      <td>15.00</td>\n",
       "      <td>351.00</td>\n",
       "      <td>15.00</td>\n",
       "      <td>547.00</td>\n",
       "      <td>15.00</td>\n",
       "    </tr>\n",
       "  </tbody>\n",
       "</table>\n",
       "</div>"
      ],
      "text/plain": [
       "             cc    status  resolution   product  component  priority  \\\n",
       "count 690817.00 690817.00   690817.00 690817.00  690817.00 690817.00   \n",
       "mean       2.34      1.34        1.16      0.31       0.27      0.21   \n",
       "std        3.52      0.89        0.76      0.55       0.55      0.51   \n",
       "min        0.00      1.00        1.00      0.00       0.00      0.00   \n",
       "25%        1.00      1.00        1.00      0.00       0.00      0.00   \n",
       "50%        1.00      1.00        1.00      0.00       0.00      0.00   \n",
       "75%        3.00      1.00        1.00      1.00       0.00      0.00   \n",
       "max      773.00     39.00       39.00      7.00      11.00     15.00   \n",
       "\n",
       "       whiteboard  assigned_to  flagtypes.name  target_milestone  \n",
       "count   690817.00    690817.00       690817.00         690817.00  \n",
       "mean         0.31         0.41            2.70              0.33  \n",
       "std          1.06         0.65            5.90              0.53  \n",
       "min          0.00         0.00            0.00              0.00  \n",
       "25%          0.00         0.00            0.00              0.00  \n",
       "50%          0.00         0.00            0.00              0.00  \n",
       "75%          0.00         1.00            3.00              1.00  \n",
       "max        351.00        15.00          547.00             15.00  "
      ]
     },
     "execution_count": 2,
     "metadata": {},
     "output_type": "execute_result"
    }
   ],
   "source": [
    "df_bugs.iloc[:, : 10].describe()"
   ]
  },
  {
   "cell_type": "markdown",
   "metadata": {},
   "source": [
    "### 1.2. Campos: comment_tag, blocks, keywords, url, version, summary, see_also, depends_on, qa_contact e groups"
   ]
  },
  {
   "cell_type": "code",
   "execution_count": 3,
   "metadata": {},
   "outputs": [
    {
     "data": {
      "text/html": [
       "<div>\n",
       "<style scoped>\n",
       "    .dataframe tbody tr th:only-of-type {\n",
       "        vertical-align: middle;\n",
       "    }\n",
       "\n",
       "    .dataframe tbody tr th {\n",
       "        vertical-align: top;\n",
       "    }\n",
       "\n",
       "    .dataframe thead th {\n",
       "        text-align: right;\n",
       "    }\n",
       "</style>\n",
       "<table border=\"1\" class=\"dataframe\">\n",
       "  <thead>\n",
       "    <tr style=\"text-align: right;\">\n",
       "      <th></th>\n",
       "      <th>comment_tag</th>\n",
       "      <th>blocks</th>\n",
       "      <th>keywords</th>\n",
       "      <th>url</th>\n",
       "      <th>version</th>\n",
       "      <th>summary</th>\n",
       "      <th>see_also</th>\n",
       "      <th>depends_on</th>\n",
       "      <th>qa_contact</th>\n",
       "      <th>groups</th>\n",
       "    </tr>\n",
       "  </thead>\n",
       "  <tbody>\n",
       "    <tr>\n",
       "      <th>count</th>\n",
       "      <td>690817.00</td>\n",
       "      <td>690817.00</td>\n",
       "      <td>690817.00</td>\n",
       "      <td>690817.00</td>\n",
       "      <td>690817.00</td>\n",
       "      <td>690817.00</td>\n",
       "      <td>690817.00</td>\n",
       "      <td>690817.00</td>\n",
       "      <td>690817.00</td>\n",
       "      <td>690817.00</td>\n",
       "    </tr>\n",
       "    <tr>\n",
       "      <th>mean</th>\n",
       "      <td>0.69</td>\n",
       "      <td>0.40</td>\n",
       "      <td>0.28</td>\n",
       "      <td>0.02</td>\n",
       "      <td>0.05</td>\n",
       "      <td>0.16</td>\n",
       "      <td>0.10</td>\n",
       "      <td>0.46</td>\n",
       "      <td>0.03</td>\n",
       "      <td>0.04</td>\n",
       "    </tr>\n",
       "    <tr>\n",
       "      <th>std</th>\n",
       "      <td>3.89</td>\n",
       "      <td>1.20</td>\n",
       "      <td>0.83</td>\n",
       "      <td>0.16</td>\n",
       "      <td>0.23</td>\n",
       "      <td>0.46</td>\n",
       "      <td>0.52</td>\n",
       "      <td>5.74</td>\n",
       "      <td>0.20</td>\n",
       "      <td>0.28</td>\n",
       "    </tr>\n",
       "    <tr>\n",
       "      <th>min</th>\n",
       "      <td>0.00</td>\n",
       "      <td>0.00</td>\n",
       "      <td>0.00</td>\n",
       "      <td>0.00</td>\n",
       "      <td>0.00</td>\n",
       "      <td>0.00</td>\n",
       "      <td>0.00</td>\n",
       "      <td>0.00</td>\n",
       "      <td>0.00</td>\n",
       "      <td>0.00</td>\n",
       "    </tr>\n",
       "    <tr>\n",
       "      <th>25%</th>\n",
       "      <td>0.00</td>\n",
       "      <td>0.00</td>\n",
       "      <td>0.00</td>\n",
       "      <td>0.00</td>\n",
       "      <td>0.00</td>\n",
       "      <td>0.00</td>\n",
       "      <td>0.00</td>\n",
       "      <td>0.00</td>\n",
       "      <td>0.00</td>\n",
       "      <td>0.00</td>\n",
       "    </tr>\n",
       "    <tr>\n",
       "      <th>50%</th>\n",
       "      <td>0.00</td>\n",
       "      <td>0.00</td>\n",
       "      <td>0.00</td>\n",
       "      <td>0.00</td>\n",
       "      <td>0.00</td>\n",
       "      <td>0.00</td>\n",
       "      <td>0.00</td>\n",
       "      <td>0.00</td>\n",
       "      <td>0.00</td>\n",
       "      <td>0.00</td>\n",
       "    </tr>\n",
       "    <tr>\n",
       "      <th>75%</th>\n",
       "      <td>1.00</td>\n",
       "      <td>0.00</td>\n",
       "      <td>0.00</td>\n",
       "      <td>0.00</td>\n",
       "      <td>0.00</td>\n",
       "      <td>0.00</td>\n",
       "      <td>0.00</td>\n",
       "      <td>0.00</td>\n",
       "      <td>0.00</td>\n",
       "      <td>0.00</td>\n",
       "    </tr>\n",
       "    <tr>\n",
       "      <th>max</th>\n",
       "      <td>519.00</td>\n",
       "      <td>353.00</td>\n",
       "      <td>60.00</td>\n",
       "      <td>7.00</td>\n",
       "      <td>10.00</td>\n",
       "      <td>24.00</td>\n",
       "      <td>190.00</td>\n",
       "      <td>1770.00</td>\n",
       "      <td>8.00</td>\n",
       "      <td>9.00</td>\n",
       "    </tr>\n",
       "  </tbody>\n",
       "</table>\n",
       "</div>"
      ],
      "text/plain": [
       "       comment_tag    blocks  keywords       url   version   summary  \\\n",
       "count    690817.00 690817.00 690817.00 690817.00 690817.00 690817.00   \n",
       "mean          0.69      0.40      0.28      0.02      0.05      0.16   \n",
       "std           3.89      1.20      0.83      0.16      0.23      0.46   \n",
       "min           0.00      0.00      0.00      0.00      0.00      0.00   \n",
       "25%           0.00      0.00      0.00      0.00      0.00      0.00   \n",
       "50%           0.00      0.00      0.00      0.00      0.00      0.00   \n",
       "75%           1.00      0.00      0.00      0.00      0.00      0.00   \n",
       "max         519.00    353.00     60.00      7.00     10.00     24.00   \n",
       "\n",
       "       see_also  depends_on  qa_contact    groups  \n",
       "count 690817.00   690817.00   690817.00 690817.00  \n",
       "mean       0.10        0.46        0.03      0.04  \n",
       "std        0.52        5.74        0.20      0.28  \n",
       "min        0.00        0.00        0.00      0.00  \n",
       "25%        0.00        0.00        0.00      0.00  \n",
       "50%        0.00        0.00        0.00      0.00  \n",
       "75%        0.00        0.00        0.00      0.00  \n",
       "max      190.00     1770.00        8.00      9.00  "
      ]
     },
     "execution_count": 3,
     "metadata": {},
     "output_type": "execute_result"
    }
   ],
   "source": [
    "df_bugs.iloc[:, 10:20].describe()"
   ]
  },
  {
   "cell_type": "markdown",
   "metadata": {},
   "source": [
    "### 1.3. Campos: attachments.isobsolete, attachments.description, platform, op_sys, is_confirmed, severity, bug_mentor, attachments.mimetype, attachments.filename e alias"
   ]
  },
  {
   "cell_type": "code",
   "execution_count": 4,
   "metadata": {},
   "outputs": [
    {
     "data": {
      "text/html": [
       "<div>\n",
       "<style scoped>\n",
       "    .dataframe tbody tr th:only-of-type {\n",
       "        vertical-align: middle;\n",
       "    }\n",
       "\n",
       "    .dataframe tbody tr th {\n",
       "        vertical-align: top;\n",
       "    }\n",
       "\n",
       "    .dataframe thead th {\n",
       "        text-align: right;\n",
       "    }\n",
       "</style>\n",
       "<table border=\"1\" class=\"dataframe\">\n",
       "  <thead>\n",
       "    <tr style=\"text-align: right;\">\n",
       "      <th></th>\n",
       "      <th>attachments.isobsolete</th>\n",
       "      <th>attachments.description</th>\n",
       "      <th>platform</th>\n",
       "      <th>op_sys</th>\n",
       "      <th>is_confirmed</th>\n",
       "      <th>severity</th>\n",
       "      <th>bug_mentor</th>\n",
       "      <th>attachments.mimetype</th>\n",
       "      <th>attachments.filename</th>\n",
       "      <th>alias</th>\n",
       "    </tr>\n",
       "  </thead>\n",
       "  <tbody>\n",
       "    <tr>\n",
       "      <th>count</th>\n",
       "      <td>690817.00</td>\n",
       "      <td>690817.00</td>\n",
       "      <td>690817.00</td>\n",
       "      <td>690817.00</td>\n",
       "      <td>690817.00</td>\n",
       "      <td>690817.00</td>\n",
       "      <td>690817.00</td>\n",
       "      <td>690817.00</td>\n",
       "      <td>690817.00</td>\n",
       "      <td>690817.00</td>\n",
       "    </tr>\n",
       "    <tr>\n",
       "      <th>mean</th>\n",
       "      <td>0.28</td>\n",
       "      <td>0.06</td>\n",
       "      <td>0.05</td>\n",
       "      <td>0.06</td>\n",
       "      <td>0.05</td>\n",
       "      <td>0.05</td>\n",
       "      <td>0.01</td>\n",
       "      <td>0.01</td>\n",
       "      <td>0.00</td>\n",
       "      <td>0.01</td>\n",
       "    </tr>\n",
       "    <tr>\n",
       "      <th>std</th>\n",
       "      <td>1.75</td>\n",
       "      <td>0.65</td>\n",
       "      <td>0.22</td>\n",
       "      <td>0.24</td>\n",
       "      <td>0.21</td>\n",
       "      <td>0.25</td>\n",
       "      <td>0.12</td>\n",
       "      <td>0.11</td>\n",
       "      <td>0.05</td>\n",
       "      <td>0.09</td>\n",
       "    </tr>\n",
       "    <tr>\n",
       "      <th>min</th>\n",
       "      <td>0.00</td>\n",
       "      <td>0.00</td>\n",
       "      <td>0.00</td>\n",
       "      <td>0.00</td>\n",
       "      <td>0.00</td>\n",
       "      <td>0.00</td>\n",
       "      <td>0.00</td>\n",
       "      <td>0.00</td>\n",
       "      <td>0.00</td>\n",
       "      <td>0.00</td>\n",
       "    </tr>\n",
       "    <tr>\n",
       "      <th>25%</th>\n",
       "      <td>0.00</td>\n",
       "      <td>0.00</td>\n",
       "      <td>0.00</td>\n",
       "      <td>0.00</td>\n",
       "      <td>0.00</td>\n",
       "      <td>0.00</td>\n",
       "      <td>0.00</td>\n",
       "      <td>0.00</td>\n",
       "      <td>0.00</td>\n",
       "      <td>0.00</td>\n",
       "    </tr>\n",
       "    <tr>\n",
       "      <th>50%</th>\n",
       "      <td>0.00</td>\n",
       "      <td>0.00</td>\n",
       "      <td>0.00</td>\n",
       "      <td>0.00</td>\n",
       "      <td>0.00</td>\n",
       "      <td>0.00</td>\n",
       "      <td>0.00</td>\n",
       "      <td>0.00</td>\n",
       "      <td>0.00</td>\n",
       "      <td>0.00</td>\n",
       "    </tr>\n",
       "    <tr>\n",
       "      <th>75%</th>\n",
       "      <td>0.00</td>\n",
       "      <td>0.00</td>\n",
       "      <td>0.00</td>\n",
       "      <td>0.00</td>\n",
       "      <td>0.00</td>\n",
       "      <td>0.00</td>\n",
       "      <td>0.00</td>\n",
       "      <td>0.00</td>\n",
       "      <td>0.00</td>\n",
       "      <td>0.00</td>\n",
       "    </tr>\n",
       "    <tr>\n",
       "      <th>max</th>\n",
       "      <td>307.00</td>\n",
       "      <td>175.00</td>\n",
       "      <td>5.00</td>\n",
       "      <td>5.00</td>\n",
       "      <td>8.00</td>\n",
       "      <td>6.00</td>\n",
       "      <td>5.00</td>\n",
       "      <td>12.00</td>\n",
       "      <td>11.00</td>\n",
       "      <td>9.00</td>\n",
       "    </tr>\n",
       "  </tbody>\n",
       "</table>\n",
       "</div>"
      ],
      "text/plain": [
       "       attachments.isobsolete  attachments.description  platform    op_sys  \\\n",
       "count               690817.00                690817.00 690817.00 690817.00   \n",
       "mean                     0.28                     0.06      0.05      0.06   \n",
       "std                      1.75                     0.65      0.22      0.24   \n",
       "min                      0.00                     0.00      0.00      0.00   \n",
       "25%                      0.00                     0.00      0.00      0.00   \n",
       "50%                      0.00                     0.00      0.00      0.00   \n",
       "75%                      0.00                     0.00      0.00      0.00   \n",
       "max                    307.00                   175.00      5.00      5.00   \n",
       "\n",
       "       is_confirmed  severity  bug_mentor  attachments.mimetype  \\\n",
       "count     690817.00 690817.00   690817.00             690817.00   \n",
       "mean           0.05      0.05        0.01                  0.01   \n",
       "std            0.21      0.25        0.12                  0.11   \n",
       "min            0.00      0.00        0.00                  0.00   \n",
       "25%            0.00      0.00        0.00                  0.00   \n",
       "50%            0.00      0.00        0.00                  0.00   \n",
       "75%            0.00      0.00        0.00                  0.00   \n",
       "max            8.00      6.00        5.00                 12.00   \n",
       "\n",
       "       attachments.filename     alias  \n",
       "count             690817.00 690817.00  \n",
       "mean                   0.00      0.01  \n",
       "std                    0.05      0.09  \n",
       "min                    0.00      0.00  \n",
       "25%                    0.00      0.00  \n",
       "50%                    0.00      0.00  \n",
       "75%                    0.00      0.00  \n",
       "max                   11.00      9.00  "
      ]
     },
     "execution_count": 4,
     "metadata": {},
     "output_type": "execute_result"
    }
   ],
   "source": [
    "df_bugs.iloc[:, 20:30].describe()"
   ]
  },
  {
   "cell_type": "markdown",
   "metadata": {},
   "source": [
    "### 1.4. Campos: attachments.ispatch, regressions, type, restrict_comments, is_cc_accessible, longdescs.isprivate, regressed_by, is_creator_accessible, attachments.isprivate"
   ]
  },
  {
   "cell_type": "code",
   "execution_count": 5,
   "metadata": {},
   "outputs": [
    {
     "data": {
      "text/html": [
       "<div>\n",
       "<style scoped>\n",
       "    .dataframe tbody tr th:only-of-type {\n",
       "        vertical-align: middle;\n",
       "    }\n",
       "\n",
       "    .dataframe tbody tr th {\n",
       "        vertical-align: top;\n",
       "    }\n",
       "\n",
       "    .dataframe thead th {\n",
       "        text-align: right;\n",
       "    }\n",
       "</style>\n",
       "<table border=\"1\" class=\"dataframe\">\n",
       "  <thead>\n",
       "    <tr style=\"text-align: right;\">\n",
       "      <th></th>\n",
       "      <th>attachments.ispatch</th>\n",
       "      <th>regressions</th>\n",
       "      <th>type</th>\n",
       "      <th>restrict_comments</th>\n",
       "      <th>is_cc_accessible</th>\n",
       "      <th>longdescs.isprivate</th>\n",
       "      <th>regressed_by</th>\n",
       "      <th>is_creator_accessible</th>\n",
       "      <th>attachments.isprivate</th>\n",
       "    </tr>\n",
       "  </thead>\n",
       "  <tbody>\n",
       "    <tr>\n",
       "      <th>count</th>\n",
       "      <td>690817.00</td>\n",
       "      <td>690817.00</td>\n",
       "      <td>690817.00</td>\n",
       "      <td>690817.00</td>\n",
       "      <td>690817.00</td>\n",
       "      <td>690817.00</td>\n",
       "      <td>690817.00</td>\n",
       "      <td>690817.00</td>\n",
       "      <td>690817.00</td>\n",
       "    </tr>\n",
       "    <tr>\n",
       "      <th>mean</th>\n",
       "      <td>0.00</td>\n",
       "      <td>0.02</td>\n",
       "      <td>0.01</td>\n",
       "      <td>0.00</td>\n",
       "      <td>0.00</td>\n",
       "      <td>0.00</td>\n",
       "      <td>0.01</td>\n",
       "      <td>0.00</td>\n",
       "      <td>0.00</td>\n",
       "    </tr>\n",
       "    <tr>\n",
       "      <th>std</th>\n",
       "      <td>0.09</td>\n",
       "      <td>0.30</td>\n",
       "      <td>0.12</td>\n",
       "      <td>0.02</td>\n",
       "      <td>0.02</td>\n",
       "      <td>0.02</td>\n",
       "      <td>0.12</td>\n",
       "      <td>0.02</td>\n",
       "      <td>0.01</td>\n",
       "    </tr>\n",
       "    <tr>\n",
       "      <th>min</th>\n",
       "      <td>0.00</td>\n",
       "      <td>0.00</td>\n",
       "      <td>0.00</td>\n",
       "      <td>0.00</td>\n",
       "      <td>0.00</td>\n",
       "      <td>0.00</td>\n",
       "      <td>0.00</td>\n",
       "      <td>0.00</td>\n",
       "      <td>0.00</td>\n",
       "    </tr>\n",
       "    <tr>\n",
       "      <th>25%</th>\n",
       "      <td>0.00</td>\n",
       "      <td>0.00</td>\n",
       "      <td>0.00</td>\n",
       "      <td>0.00</td>\n",
       "      <td>0.00</td>\n",
       "      <td>0.00</td>\n",
       "      <td>0.00</td>\n",
       "      <td>0.00</td>\n",
       "      <td>0.00</td>\n",
       "    </tr>\n",
       "    <tr>\n",
       "      <th>50%</th>\n",
       "      <td>0.00</td>\n",
       "      <td>0.00</td>\n",
       "      <td>0.00</td>\n",
       "      <td>0.00</td>\n",
       "      <td>0.00</td>\n",
       "      <td>0.00</td>\n",
       "      <td>0.00</td>\n",
       "      <td>0.00</td>\n",
       "      <td>0.00</td>\n",
       "    </tr>\n",
       "    <tr>\n",
       "      <th>75%</th>\n",
       "      <td>0.00</td>\n",
       "      <td>0.00</td>\n",
       "      <td>0.00</td>\n",
       "      <td>0.00</td>\n",
       "      <td>0.00</td>\n",
       "      <td>0.00</td>\n",
       "      <td>0.00</td>\n",
       "      <td>0.00</td>\n",
       "      <td>0.00</td>\n",
       "    </tr>\n",
       "    <tr>\n",
       "      <th>max</th>\n",
       "      <td>11.00</td>\n",
       "      <td>64.00</td>\n",
       "      <td>7.00</td>\n",
       "      <td>4.00</td>\n",
       "      <td>6.00</td>\n",
       "      <td>6.00</td>\n",
       "      <td>5.00</td>\n",
       "      <td>6.00</td>\n",
       "      <td>4.00</td>\n",
       "    </tr>\n",
       "  </tbody>\n",
       "</table>\n",
       "</div>"
      ],
      "text/plain": [
       "       attachments.ispatch  regressions      type  restrict_comments  \\\n",
       "count            690817.00    690817.00 690817.00          690817.00   \n",
       "mean                  0.00         0.02      0.01               0.00   \n",
       "std                   0.09         0.30      0.12               0.02   \n",
       "min                   0.00         0.00      0.00               0.00   \n",
       "25%                   0.00         0.00      0.00               0.00   \n",
       "50%                   0.00         0.00      0.00               0.00   \n",
       "75%                   0.00         0.00      0.00               0.00   \n",
       "max                  11.00        64.00      7.00               4.00   \n",
       "\n",
       "       is_cc_accessible  longdescs.isprivate  regressed_by  \\\n",
       "count         690817.00            690817.00     690817.00   \n",
       "mean               0.00                 0.00          0.01   \n",
       "std                0.02                 0.02          0.12   \n",
       "min                0.00                 0.00          0.00   \n",
       "25%                0.00                 0.00          0.00   \n",
       "50%                0.00                 0.00          0.00   \n",
       "75%                0.00                 0.00          0.00   \n",
       "max                6.00                 6.00          5.00   \n",
       "\n",
       "       is_creator_accessible  attachments.isprivate  \n",
       "count              690817.00              690817.00  \n",
       "mean                    0.00                   0.00  \n",
       "std                     0.02                   0.01  \n",
       "min                     0.00                   0.00  \n",
       "25%                     0.00                   0.00  \n",
       "50%                     0.00                   0.00  \n",
       "75%                     0.00                   0.00  \n",
       "max                     6.00                   4.00  "
      ]
     },
     "execution_count": 5,
     "metadata": {},
     "output_type": "execute_result"
    }
   ],
   "source": [
    "df_bugs.iloc[:, 30:39].describe()"
   ]
  },
  {
   "cell_type": "markdown",
   "metadata": {},
   "source": [
    "### 1.5 Os 10 campos com maiores valores máximos de modificações em um único bug report"
   ]
  },
  {
   "cell_type": "code",
   "execution_count": 6,
   "metadata": {},
   "outputs": [
    {
     "data": {
      "text/plain": [
       "depends_on                 1770\n",
       "cc                          773\n",
       "flagtypes.name              547\n",
       "comment_tag                 519\n",
       "blocks                      353\n",
       "whiteboard                  351\n",
       "attachments.isobsolete      307\n",
       "see_also                    190\n",
       "attachments.description     175\n",
       "regressions                  64\n",
       "dtype: int64"
      ]
     },
     "execution_count": 6,
     "metadata": {},
     "output_type": "execute_result"
    }
   ],
   "source": [
    "df_bugs.max().sort_values(ascending=False).head(10)"
   ]
  },
  {
   "cell_type": "markdown",
   "metadata": {},
   "source": [
    "### 1.6 Os 10 campos com menores valores máximos de modificações em um único bug report"
   ]
  },
  {
   "cell_type": "code",
   "execution_count": 7,
   "metadata": {},
   "outputs": [
    {
     "data": {
      "text/plain": [
       "attachments.isprivate    4\n",
       "restrict_comments        4\n",
       "regressed_by             5\n",
       "bug_mentor               5\n",
       "op_sys                   5\n",
       "platform                 5\n",
       "longdescs.isprivate      6\n",
       "is_cc_accessible         6\n",
       "severity                 6\n",
       "is_creator_accessible    6\n",
       "dtype: int64"
      ]
     },
     "execution_count": 7,
     "metadata": {},
     "output_type": "execute_result"
    }
   ],
   "source": [
    "df_bugs.max().sort_values(ascending=True).head(10)"
   ]
  },
  {
   "cell_type": "markdown",
   "metadata": {},
   "source": [
    "## 2. Percentual de presença de campos no histórico de mudanças de bug reports"
   ]
  },
  {
   "cell_type": "code",
   "execution_count": 15,
   "metadata": {},
   "outputs": [],
   "source": [
    "df_field_change_percents = pd.DataFrame({\n",
    "  'field':  [],\n",
    "  'percentage': []\n",
    "})\n",
    "\n",
    "for i in range(0, len(fields)):\n",
    "  current_field = fields[i]\n",
    "  percent = (df_bugs[current_field].astype(bool).sum(axis=0) / len(df_bugs)) * 100\n",
    "  \n",
    "  df_field_change_percents.loc[i] = [current_field, percent]\n",
    "    \n",
    "\n",
    "df_field_change_percents_sorted = df_field_change_percents.sort_values(by = 'percentage', ascending = False)"
   ]
  },
  {
   "cell_type": "markdown",
   "metadata": {},
   "source": [
    "### 2.1 Os 10 campos com maiores percentuais de presença nos históricos de bugs"
   ]
  },
  {
   "cell_type": "code",
   "execution_count": 10,
   "metadata": {},
   "outputs": [
    {
     "data": {
      "text/html": [
       "<style type=\"text/css\">\n",
       "</style>\n",
       "<table id=\"T_4e5b7\">\n",
       "  <thead>\n",
       "    <tr>\n",
       "      <th id=\"T_4e5b7_level0_col0\" class=\"col_heading level0 col0\" >field</th>\n",
       "      <th id=\"T_4e5b7_level0_col1\" class=\"col_heading level0 col1\" >percentage</th>\n",
       "    </tr>\n",
       "  </thead>\n",
       "  <tbody>\n",
       "    <tr>\n",
       "      <td id=\"T_4e5b7_row0_col0\" class=\"data row0 col0\" >resolution</td>\n",
       "      <td id=\"T_4e5b7_row0_col1\" class=\"data row0 col1\" >100.000000</td>\n",
       "    </tr>\n",
       "    <tr>\n",
       "      <td id=\"T_4e5b7_row1_col0\" class=\"data row1 col0\" >status</td>\n",
       "      <td id=\"T_4e5b7_row1_col1\" class=\"data row1 col1\" >100.000000</td>\n",
       "    </tr>\n",
       "    <tr>\n",
       "      <td id=\"T_4e5b7_row2_col0\" class=\"data row2 col0\" >cc</td>\n",
       "      <td id=\"T_4e5b7_row2_col1\" class=\"data row2 col1\" >77.432953</td>\n",
       "    </tr>\n",
       "    <tr>\n",
       "      <td id=\"T_4e5b7_row3_col0\" class=\"data row3 col0\" >flagtypes.name</td>\n",
       "      <td id=\"T_4e5b7_row3_col1\" class=\"data row3 col1\" >48.304109</td>\n",
       "    </tr>\n",
       "    <tr>\n",
       "      <td id=\"T_4e5b7_row4_col0\" class=\"data row4 col0\" >assigned_to</td>\n",
       "      <td id=\"T_4e5b7_row4_col1\" class=\"data row4 col1\" >34.897809</td>\n",
       "    </tr>\n",
       "    <tr>\n",
       "      <td id=\"T_4e5b7_row5_col0\" class=\"data row5 col0\" >target_milestone</td>\n",
       "      <td id=\"T_4e5b7_row5_col1\" class=\"data row5 col1\" >30.676865</td>\n",
       "    </tr>\n",
       "    <tr>\n",
       "      <td id=\"T_4e5b7_row6_col0\" class=\"data row6 col0\" >comment_tag</td>\n",
       "      <td id=\"T_4e5b7_row6_col1\" class=\"data row6 col1\" >28.254950</td>\n",
       "    </tr>\n",
       "    <tr>\n",
       "      <td id=\"T_4e5b7_row7_col0\" class=\"data row7 col0\" >product</td>\n",
       "      <td id=\"T_4e5b7_row7_col1\" class=\"data row7 col1\" >27.002231</td>\n",
       "    </tr>\n",
       "    <tr>\n",
       "      <td id=\"T_4e5b7_row8_col0\" class=\"data row8 col0\" >component</td>\n",
       "      <td id=\"T_4e5b7_row8_col1\" class=\"data row8 col1\" >23.213384</td>\n",
       "    </tr>\n",
       "    <tr>\n",
       "      <td id=\"T_4e5b7_row9_col0\" class=\"data row9 col0\" >blocks</td>\n",
       "      <td id=\"T_4e5b7_row9_col1\" class=\"data row9 col1\" >23.097289</td>\n",
       "    </tr>\n",
       "  </tbody>\n",
       "</table>\n"
      ],
      "text/plain": [
       "<pandas.io.formats.style.Styler at 0x1ee6f6b7340>"
      ]
     },
     "execution_count": 10,
     "metadata": {},
     "output_type": "execute_result"
    }
   ],
   "source": [
    "df_field_change_percents_sorted.loc[df_field_change_percents_sorted['percentage'] > 0].head(10).style.hide(axis='index')"
   ]
  },
  {
   "cell_type": "markdown",
   "metadata": {},
   "source": [
    "### 2.2 Os 10 campos com menores percentuais de presença nos históricos de bugs"
   ]
  },
  {
   "cell_type": "code",
   "execution_count": 11,
   "metadata": {},
   "outputs": [
    {
     "data": {
      "text/html": [
       "<style type=\"text/css\">\n",
       "</style>\n",
       "<table id=\"T_49035\">\n",
       "  <thead>\n",
       "    <tr>\n",
       "      <th id=\"T_49035_level0_col0\" class=\"col_heading level0 col0\" >field</th>\n",
       "      <th id=\"T_49035_level0_col1\" class=\"col_heading level0 col1\" >percentage</th>\n",
       "    </tr>\n",
       "  </thead>\n",
       "  <tbody>\n",
       "    <tr>\n",
       "      <td id=\"T_49035_row0_col0\" class=\"data row0 col0\" >attachments.isprivate</td>\n",
       "      <td id=\"T_49035_row0_col1\" class=\"data row0 col1\" >0.002316</td>\n",
       "    </tr>\n",
       "    <tr>\n",
       "      <td id=\"T_49035_row1_col0\" class=\"data row1 col0\" >is_creator_accessible</td>\n",
       "      <td id=\"T_49035_row1_col1\" class=\"data row1 col1\" >0.015778</td>\n",
       "    </tr>\n",
       "    <tr>\n",
       "      <td id=\"T_49035_row2_col0\" class=\"data row2 col0\" >longdescs.isprivate</td>\n",
       "      <td id=\"T_49035_row2_col1\" class=\"data row2 col1\" >0.011291</td>\n",
       "    </tr>\n",
       "    <tr>\n",
       "      <td id=\"T_49035_row3_col0\" class=\"data row3 col0\" >is_cc_accessible</td>\n",
       "      <td id=\"T_49035_row3_col1\" class=\"data row3 col1\" >0.017660</td>\n",
       "    </tr>\n",
       "    <tr>\n",
       "      <td id=\"T_49035_row4_col0\" class=\"data row4 col0\" >restrict_comments</td>\n",
       "      <td id=\"T_49035_row4_col1\" class=\"data row4 col1\" >0.033149</td>\n",
       "    </tr>\n",
       "    <tr>\n",
       "      <td id=\"T_49035_row5_col0\" class=\"data row5 col0\" >attachments.ispatch</td>\n",
       "      <td id=\"T_49035_row5_col1\" class=\"data row5 col1\" >0.403435</td>\n",
       "    </tr>\n",
       "    <tr>\n",
       "      <td id=\"T_49035_row6_col0\" class=\"data row6 col0\" >alias</td>\n",
       "      <td id=\"T_49035_row6_col1\" class=\"data row6 col1\" >0.569760</td>\n",
       "    </tr>\n",
       "    <tr>\n",
       "      <td id=\"T_49035_row7_col0\" class=\"data row7 col0\" >attachments.filename</td>\n",
       "      <td id=\"T_49035_row7_col1\" class=\"data row7 col1\" >0.075418</td>\n",
       "    </tr>\n",
       "    <tr>\n",
       "      <td id=\"T_49035_row8_col0\" class=\"data row8 col0\" >attachments.mimetype</td>\n",
       "      <td id=\"T_49035_row8_col1\" class=\"data row8 col1\" >0.705397</td>\n",
       "    </tr>\n",
       "    <tr>\n",
       "      <td id=\"T_49035_row9_col0\" class=\"data row9 col0\" >bug_mentor</td>\n",
       "      <td id=\"T_49035_row9_col1\" class=\"data row9 col1\" >0.877077</td>\n",
       "    </tr>\n",
       "  </tbody>\n",
       "</table>\n"
      ],
      "text/plain": [
       "<pandas.io.formats.style.Styler at 0x1ee1d781760>"
      ]
     },
     "execution_count": 11,
     "metadata": {},
     "output_type": "execute_result"
    }
   ],
   "source": [
    "df_field_change_percents_sorted.loc[df_field_change_percents_sorted['percentage'] > 0].tail(10).sort_index(ascending=False).style.hide(axis='index')"
   ]
  },
  {
   "cell_type": "markdown",
   "metadata": {},
   "source": [
    "## 3. Campos com terceiro quartil maior ou igual a 1"
   ]
  },
  {
   "cell_type": "code",
   "execution_count": 12,
   "metadata": {},
   "outputs": [
    {
     "data": {
      "text/html": [
       "<style type=\"text/css\">\n",
       "</style>\n",
       "<table id=\"T_a4285\">\n",
       "  <thead>\n",
       "    <tr>\n",
       "      <th id=\"T_a4285_level0_col0\" class=\"col_heading level0 col0\" >campo</th>\n",
       "      <th id=\"T_a4285_level0_col1\" class=\"col_heading level0 col1\" >3o quartil</th>\n",
       "    </tr>\n",
       "  </thead>\n",
       "  <tbody>\n",
       "    <tr>\n",
       "      <td id=\"T_a4285_row0_col0\" class=\"data row0 col0\" >cc</td>\n",
       "      <td id=\"T_a4285_row0_col1\" class=\"data row0 col1\" >3.000000</td>\n",
       "    </tr>\n",
       "    <tr>\n",
       "      <td id=\"T_a4285_row1_col0\" class=\"data row1 col0\" >flagtypes.name</td>\n",
       "      <td id=\"T_a4285_row1_col1\" class=\"data row1 col1\" >3.000000</td>\n",
       "    </tr>\n",
       "    <tr>\n",
       "      <td id=\"T_a4285_row2_col0\" class=\"data row2 col0\" >status</td>\n",
       "      <td id=\"T_a4285_row2_col1\" class=\"data row2 col1\" >1.000000</td>\n",
       "    </tr>\n",
       "    <tr>\n",
       "      <td id=\"T_a4285_row3_col0\" class=\"data row3 col0\" >resolution</td>\n",
       "      <td id=\"T_a4285_row3_col1\" class=\"data row3 col1\" >1.000000</td>\n",
       "    </tr>\n",
       "    <tr>\n",
       "      <td id=\"T_a4285_row4_col0\" class=\"data row4 col0\" >product</td>\n",
       "      <td id=\"T_a4285_row4_col1\" class=\"data row4 col1\" >1.000000</td>\n",
       "    </tr>\n",
       "    <tr>\n",
       "      <td id=\"T_a4285_row5_col0\" class=\"data row5 col0\" >assigned_to</td>\n",
       "      <td id=\"T_a4285_row5_col1\" class=\"data row5 col1\" >1.000000</td>\n",
       "    </tr>\n",
       "    <tr>\n",
       "      <td id=\"T_a4285_row6_col0\" class=\"data row6 col0\" >target_milestone</td>\n",
       "      <td id=\"T_a4285_row6_col1\" class=\"data row6 col1\" >1.000000</td>\n",
       "    </tr>\n",
       "    <tr>\n",
       "      <td id=\"T_a4285_row7_col0\" class=\"data row7 col0\" >comment_tag</td>\n",
       "      <td id=\"T_a4285_row7_col1\" class=\"data row7 col1\" >1.000000</td>\n",
       "    </tr>\n",
       "  </tbody>\n",
       "</table>\n"
      ],
      "text/plain": [
       "<pandas.io.formats.style.Styler at 0x1ee1d9d7d30>"
      ]
     },
     "execution_count": 12,
     "metadata": {},
     "output_type": "execute_result"
    }
   ],
   "source": [
    "df_quartil_3 = pd.DataFrame(columns=['campo', '3o quartil'])\n",
    "for field in fields:\n",
    "  quartil_3 = df_bugs[field].quantile(0.75)\n",
    "\n",
    "  if (quartil_3 >= 1):\n",
    "    temp_df = pd.DataFrame([{ 'campo': field, '3o quartil': quartil_3 }], columns=['campo','3o quartil'])\n",
    "    df_quartil_3 = pd.concat([df_quartil_3, temp_df])\n",
    "\n",
    "df_quartil_3.sort_values(by='3o quartil', ascending=False).style.hide(axis='index')"
   ]
  },
  {
   "cell_type": "markdown",
   "metadata": {},
   "source": [
    "## 4. Correlações entre contagem de modificações de campos"
   ]
  },
  {
   "cell_type": "code",
   "execution_count": 9,
   "metadata": {},
   "outputs": [
    {
     "data": {
      "text/plain": [
       "<AxesSubplot:>"
      ]
     },
     "execution_count": 9,
     "metadata": {},
     "output_type": "execute_result"
    },
    {
     "data": {
      "image/png": "[encoded data removed]",
      "text/plain": [
       "<Figure size 1080x432 with 2 Axes>"
      ]
     },
     "metadata": {},
     "output_type": "display_data"
    }
   ],
   "source": [
    "corrs = df_bugs[['status', 'resolution', 'assigned_to', 'product', 'component', 'priority', 'severity', 'summary', 'platform', 'op_sys']].corr()\n",
    "\n",
    "fig, ax = plt.subplots(1,1,figsize=(15,6))\n",
    "sns.heatmap(corrs, \n",
    "  xticklabels=corrs.columns,\n",
    "  yticklabels=corrs.columns,\n",
    "  cmap=\"OrRd\",\n",
    "  annot=True,\n",
    "  fmt=\".2f\",\n",
    "  ax=ax\n",
    ")\n",
    "\n",
    "# cmap = \"RdBu_r\"\n",
    "# cmap = \"OrRd\""
   ]
  },
  {
   "cell_type": "markdown",
   "metadata": {},
   "source": [
    "## 5. Correlações entre pares de mudança e mudança individual"
   ]
  },
  {
   "cell_type": "markdown",
   "metadata": {},
   "source": [
    "### 5.1 Correlação entre component-product"
   ]
  },
  {
   "cell_type": "code",
   "execution_count": 10,
   "metadata": {},
   "outputs": [
    {
     "data": {
      "text/plain": [
       "<AxesSubplot:>"
      ]
     },
     "execution_count": 10,
     "metadata": {},
     "output_type": "execute_result"
    },
    {
     "data": {
      "image/png": "[encoded data removed]",
      "text/plain": [
       "<Figure size 432x288 with 2 Axes>"
      ]
     },
     "metadata": {},
     "output_type": "display_data"
    }
   ],
   "source": [
    "corr_component_product = df_relations[['component', 'product', 'component-product']].corr()\n",
    "\n",
    "sns.heatmap(corr_component_product, \n",
    "  xticklabels=corr_component_product.columns,\n",
    "  yticklabels=corr_component_product.columns,\n",
    "  cmap=\"OrRd\",\n",
    "  annot=True,\n",
    "  fmt=\".2f\"\n",
    ")"
   ]
  },
  {
   "cell_type": "markdown",
   "metadata": {},
   "source": [
    "### 5.2 Correlação entre assigned_to-status"
   ]
  },
  {
   "cell_type": "code",
   "execution_count": 11,
   "metadata": {},
   "outputs": [
    {
     "data": {
      "text/plain": [
       "<AxesSubplot:>"
      ]
     },
     "execution_count": 11,
     "metadata": {},
     "output_type": "execute_result"
    },
    {
     "data": {
      "image/png": "[encoded data removed]",
      "text/plain": [
       "<Figure size 432x288 with 2 Axes>"
      ]
     },
     "metadata": {},
     "output_type": "display_data"
    }
   ],
   "source": [
    "corr_assigned_to_status = df_relations[['assigned_to', 'status', 'assigned_to-status']].corr()\n",
    "\n",
    "sns.heatmap(corr_assigned_to_status, \n",
    "  xticklabels=corr_assigned_to_status.columns,\n",
    "  yticklabels=corr_assigned_to_status.columns,\n",
    "  cmap=\"OrRd\",\n",
    "  annot=True,\n",
    "  fmt=\".2f\"\n",
    ")"
   ]
  },
  {
   "cell_type": "markdown",
   "metadata": {},
   "source": [
    "### 5.3 Correlação entre assigned_to-priority"
   ]
  },
  {
   "cell_type": "code",
   "execution_count": 12,
   "metadata": {},
   "outputs": [
    {
     "data": {
      "text/plain": [
       "<AxesSubplot:>"
      ]
     },
     "execution_count": 12,
     "metadata": {},
     "output_type": "execute_result"
    },
    {
     "data": {
      "image/png": "[encoded data removed]",
      "text/plain": [
       "<Figure size 432x288 with 2 Axes>"
      ]
     },
     "metadata": {},
     "output_type": "display_data"
    }
   ],
   "source": [
    "corr_assigned_to_priority = df_relations[['assigned_to', 'priority', 'assigned_to-status']].corr()\n",
    "\n",
    "sns.heatmap(corr_assigned_to_priority, \n",
    "  xticklabels=corr_assigned_to_priority.columns,\n",
    "  yticklabels=corr_assigned_to_priority.columns,\n",
    "  cmap=\"OrRd\",\n",
    "  annot=True,\n",
    "  fmt=\".2f\"\n",
    ")"
   ]
  },
  {
   "cell_type": "markdown",
   "metadata": {},
   "source": [
    "### 5.4 Correlação entre priority-severity"
   ]
  },
  {
   "cell_type": "code",
   "execution_count": 13,
   "metadata": {},
   "outputs": [
    {
     "data": {
      "text/plain": [
       "<AxesSubplot:>"
      ]
     },
     "execution_count": 13,
     "metadata": {},
     "output_type": "execute_result"
    },
    {
     "data": {
      "image/png": "[encoded data removed]",
      "text/plain": [
       "<Figure size 432x288 with 2 Axes>"
      ]
     },
     "metadata": {},
     "output_type": "display_data"
    }
   ],
   "source": [
    "corr_priority_severity = df_relations[['priority', 'severity', 'priority-severity']].corr()\n",
    "\n",
    "sns.heatmap(corr_priority_severity, \n",
    "  xticklabels=corr_priority_severity.columns,\n",
    "  yticklabels=corr_priority_severity.columns,\n",
    "  cmap=\"OrRd\",\n",
    "  annot=True,\n",
    "  fmt=\".2f\"\n",
    ")"
   ]
  },
  {
   "cell_type": "markdown",
   "metadata": {},
   "source": [
    "### 5.5 Correlação entre platform-op_sys"
   ]
  },
  {
   "cell_type": "code",
   "execution_count": 3,
   "metadata": {},
   "outputs": [
    {
     "data": {
      "text/plain": [
       "<AxesSubplot:>"
      ]
     },
     "execution_count": 3,
     "metadata": {},
     "output_type": "execute_result"
    },
    {
     "data": {
      "image/png": "[encoded data removed]",
      "text/plain": [
       "<Figure size 432x288 with 2 Axes>"
      ]
     },
     "metadata": {},
     "output_type": "display_data"
    }
   ],
   "source": [
    "corr_platform_op_sys = df_relations[['platform', 'op_sys', 'platform-op_sys']].corr()\n",
    "\n",
    "sns.heatmap(corr_platform_op_sys, \n",
    "  xticklabels=corr_platform_op_sys.columns,\n",
    "  yticklabels=corr_platform_op_sys.columns,\n",
    "  cmap=\"OrRd\",\n",
    "  annot=True,\n",
    "  fmt=\".2f\"\n",
    ")"
   ]
  },
  {
   "cell_type": "markdown",
   "metadata": {},
   "source": [
    "## 6. Comparando os 10% de relatórios de bugs com mais mudanças com a base em geral"
   ]
  },
  {
   "cell_type": "markdown",
   "metadata": {},
   "source": [
    "### 6.1 Os 10 campos com maiores médias de modificações dos 10% de relatórios que mais se alteram"
   ]
  },
  {
   "cell_type": "code",
   "execution_count": 42,
   "metadata": {},
   "outputs": [
    {
     "data": {
      "text/plain": [
       "flagtypes.name     13.50\n",
       "cc                  7.86\n",
       "status              2.10\n",
       "resolution          1.55\n",
       "whiteboard          1.06\n",
       "assigned_to         1.06\n",
       "target_milestone    0.79\n",
       "priority            0.49\n",
       "component           0.45\n",
       "product             0.40\n",
       "dtype: float64"
      ]
     },
     "execution_count": 42,
     "metadata": {},
     "output_type": "execute_result"
    }
   ],
   "source": [
    "df_bugs['total_changes'] = df_bugs.sum(axis='columns')\n",
    "df_bugs = df_bugs.sort_values('total_changes', ascending=False)\n",
    "df_most_changed_bugs = df_bugs.head(int(len(df_bugs)*0.1))\n",
    "\n",
    "df_bugs.drop(columns=['total_changes'])\n",
    "\n",
    "df_most_changed_bugs.mean().head(10).sort_values(ascending=False)\n",
    "\n"
   ]
  },
  {
   "cell_type": "markdown",
   "metadata": {},
   "source": [
    "### 6.2 Os 10 campos com maiores médias de alterações no geral"
   ]
  },
  {
   "cell_type": "code",
   "execution_count": 39,
   "metadata": {},
   "outputs": [
    {
     "data": {
      "text/plain": [
       "flagtypes.name     2.70\n",
       "cc                 2.34\n",
       "status             1.34\n",
       "resolution         1.16\n",
       "assigned_to        0.41\n",
       "target_milestone   0.33\n",
       "whiteboard         0.31\n",
       "product            0.31\n",
       "component          0.27\n",
       "priority           0.21\n",
       "dtype: float64"
      ]
     },
     "execution_count": 39,
     "metadata": {},
     "output_type": "execute_result"
    }
   ],
   "source": [
    "df_bugs.mean().head(10).sort_values(ascending=False)"
   ]
  }
 ],
 "metadata": {
  "kernelspec": {
   "display_name": "Python 3.9.13 64-bit",
   "language": "python",
   "name": "python3"
  },
  "language_info": {
   "codemirror_mode": {
    "name": "ipython",
    "version": 3
   },
   "file_extension": ".py",
   "mimetype": "text/x-python",
   "name": "python",
   "nbconvert_exporter": "python",
   "pygments_lexer": "ipython3",
   "version": "3.9.13"
  },
  "orig_nbformat": 4,
  "vscode": {
   "interpreter": {
    "hash": "1f2de058d7ebaa32d79cad43f3c868bd4b0213631c06cc735fbd6f200c37b41b"
   }
  }
 },
 "nbformat": 4,
 "nbformat_minor": 2
}
