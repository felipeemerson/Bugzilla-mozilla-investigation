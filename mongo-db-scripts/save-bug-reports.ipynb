{
 "cells": [
  {
   "cell_type": "code",
   "execution_count": 2,
   "id": "45d04b03",
   "metadata": {},
   "outputs": [],
   "source": [
    "from mongoengine import *\n",
    "import json\n",
    "\n",
    "class Bug(Document):\n",
    "    bug_id = IntField(required = True, unique = True)\n",
    "    resolution = StringField()\n",
    "    last_change_time = DateTimeField()\n",
    "    history = ListField(DictField())\n",
    "    creator = StringField()\n",
    "    creator_detail = DictField()\n",
    "    comments = ListField(DictField())\n",
    "    summary = StringField()"
   ]
  },
  {
   "cell_type": "code",
   "execution_count": 4,
   "id": "04be87c8",
   "metadata": {},
   "outputs": [
    {
     "data": {
      "text/plain": [
       "MongoClient(host=['127.0.0.1:27017'], document_class=dict, tz_aware=False, connect=True, read_preference=Primary(), uuidrepresentation=3)"
      ]
     },
     "execution_count": 4,
     "metadata": {},
     "output_type": "execute_result"
    }
   ],
   "source": [
    "connect('bug_reports_db', host='127.0.0.1', port=27017)"
   ]
  },
  {
   "cell_type": "code",
   "execution_count": 28,
   "id": "b3a4ab4b",
   "metadata": {},
   "outputs": [],
   "source": [
    "with open('C:\\\\Users\\\\TEFYLIPE\\\\Documents\\\\UNIVERSIDADE\\\\TCC\\\\base\\\\bugs_base_final_7.json') as input:\n",
    "    bugs = json.load(input)"
   ]
  },
  {
   "cell_type": "code",
   "execution_count": 29,
   "id": "fff49960",
   "metadata": {},
   "outputs": [],
   "source": [
    "for bug in bugs:\n",
    "    \n",
    "    bug = Bug(**bug)\n",
    "    bug.save()\n"
   ]
  },
  {
   "cell_type": "code",
   "execution_count": 30,
   "id": "e84a0775",
   "metadata": {},
   "outputs": [
    {
     "data": {
      "text/plain": [
       "0"
      ]
     },
     "execution_count": 30,
     "metadata": {},
     "output_type": "execute_result"
    }
   ],
   "source": [
    "import gc\n",
    "del bugs\n",
    "gc.collect()"
   ]
  },
  {
   "cell_type": "code",
   "execution_count": null,
   "id": "f1ce9e06",
   "metadata": {},
   "outputs": [],
   "source": []
  }
 ],
 "metadata": {
  "interpreter": {
   "hash": "1f2de058d7ebaa32d79cad43f3c868bd4b0213631c06cc735fbd6f200c37b41b"
  },
  "kernelspec": {
   "display_name": "Python 3.9.13 64-bit",
   "language": "python",
   "name": "python3"
  },
  "language_info": {
   "codemirror_mode": {
    "name": "ipython",
    "version": 3
   },
   "file_extension": ".py",
   "mimetype": "text/x-python",
   "name": "python",
   "nbconvert_exporter": "python",
   "pygments_lexer": "ipython3",
   "version": "3.9.13"
  }
 },
 "nbformat": 4,
 "nbformat_minor": 5
}
