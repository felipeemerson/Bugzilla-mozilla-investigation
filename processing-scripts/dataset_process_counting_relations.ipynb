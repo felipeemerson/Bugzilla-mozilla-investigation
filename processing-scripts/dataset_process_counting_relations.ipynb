{
 "cells": [
  {
   "cell_type": "code",
   "execution_count": 1,
   "metadata": {},
   "outputs": [
    {
     "data": {
      "text/plain": [
       "MongoClient(host=['127.0.0.1:27017'], document_class=dict, tz_aware=False, connect=True, read_preference=Primary(), uuidrepresentation=3)"
      ]
     },
     "execution_count": 1,
     "metadata": {},
     "output_type": "execute_result"
    }
   ],
   "source": [
    "from Bug import Bug\n",
    "from mongoengine import connect\n",
    "import math\n",
    "import json\n",
    "import copy\n",
    "\n",
    "connect('bug_reports_db', host='127.0.0.1', port=27017)"
   ]
  },
  {
   "cell_type": "code",
   "execution_count": 2,
   "metadata": {},
   "outputs": [],
   "source": [
    "relations = ['assigned_to-priority', 'assigned_to-status', 'component-product', 'priority-severity', 'platform-op_sys']\n",
    "\n",
    "bugs_relations = []\n",
    "temp_bug_init = {}\n",
    "\n",
    "for relation in relations:\n",
    "  temp_bug_init[relation] = 0\n",
    "\n",
    "def calc_relations(history):\n",
    "  current_relations = copy.deepcopy(temp_bug_init)\n",
    "\n",
    "  for changes in history:\n",
    "    current_fields_set = set()\n",
    "\n",
    "    for change in changes['changes']:\n",
    "      field_name = change['field_name']\n",
    "\n",
    "      current_fields_set.add(field_name)\n",
    "    \n",
    "    verify_relations(current_relations, current_fields_set)\n",
    "\n",
    "  return current_relations\n",
    "\n",
    "def verify_relations(current_relations, current_fields_set):\n",
    "  for relation in relations:\n",
    "    fields_to_verify_set = set(relation.split('-'))\n",
    "    \n",
    "    if fields_to_verify_set.issubset(current_fields_set):\n",
    "      current_relations[relation] += 1\n"
   ]
  },
  {
   "cell_type": "code",
   "execution_count": 3,
   "metadata": {},
   "outputs": [
    {
     "name": "stdout",
     "output_type": "stream",
     "text": [
      "Iterarions needed: 14\n",
      "Qnt. de bugs nesta iteração: 50000\n",
      "Iteration 0\n",
      "Qnt. de bugs nesta iteração: 50000\n",
      "Iteration 1\n",
      "Qnt. de bugs nesta iteração: 50000\n",
      "Iteration 2\n",
      "Qnt. de bugs nesta iteração: 50000\n",
      "Iteration 3\n",
      "Qnt. de bugs nesta iteração: 50000\n",
      "Iteration 4\n",
      "Qnt. de bugs nesta iteração: 50000\n",
      "Iteration 5\n",
      "Qnt. de bugs nesta iteração: 50000\n",
      "Iteration 6\n",
      "Qnt. de bugs nesta iteração: 50000\n",
      "Iteration 7\n",
      "Qnt. de bugs nesta iteração: 50000\n",
      "Iteration 8\n",
      "Qnt. de bugs nesta iteração: 50000\n",
      "Iteration 9\n",
      "Qnt. de bugs nesta iteração: 50000\n",
      "Iteration 10\n",
      "Qnt. de bugs nesta iteração: 50000\n",
      "Iteration 11\n",
      "Qnt. de bugs nesta iteração: 50000\n",
      "Iteration 12\n",
      "Qnt. de bugs nesta iteração: 40817\n",
      "Iteration 13\n"
     ]
    }
   ],
   "source": [
    "BUGS_LIMIT = 50000\n",
    "total_bugs = Bug.objects.count()\n",
    "bugs_per_iteration = math.ceil(total_bugs/BUGS_LIMIT)\n",
    "\n",
    "print(f'Iterarions needed: {bugs_per_iteration}')\n",
    "\n",
    "for i in range(bugs_per_iteration):\n",
    "  skip_quantity = i * BUGS_LIMIT\n",
    "  result = Bug.objects.only('bug_id', 'history').limit(BUGS_LIMIT).skip(skip_quantity)\n",
    "\n",
    "  bugs = [bug.to_mongo().to_dict() for bug in result]\n",
    "\n",
    "  print(f'Qnt. de bugs nesta iteração: {len(bugs)}')\n",
    "\n",
    "  for bug in bugs:\n",
    "    temp_bug = calc_relations(bug['history'])\n",
    "    temp_bug['bug_id'] = bug['bug_id']\n",
    "    bugs_relations.append(temp_bug)\n",
    "    \n",
    "  print(f\"Iteration {i}\")\n",
    "                    "
   ]
  },
  {
   "cell_type": "code",
   "execution_count": 4,
   "metadata": {},
   "outputs": [],
   "source": [
    "with open('processed_bugs_counting_relations_2.json', 'w') as output:\n",
    "  json.dump(bugs_relations, output)"
   ]
  }
 ],
 "metadata": {
  "kernelspec": {
   "display_name": "Python 3.9.13 64-bit",
   "language": "python",
   "name": "python3"
  },
  "language_info": {
   "codemirror_mode": {
    "name": "ipython",
    "version": 3
   },
   "file_extension": ".py",
   "mimetype": "text/x-python",
   "name": "python",
   "nbconvert_exporter": "python",
   "pygments_lexer": "ipython3",
   "version": "3.9.13"
  },
  "orig_nbformat": 4,
  "vscode": {
   "interpreter": {
    "hash": "1f2de058d7ebaa32d79cad43f3c868bd4b0213631c06cc735fbd6f200c37b41b"
   }
  }
 },
 "nbformat": 4,
 "nbformat_minor": 2
}
