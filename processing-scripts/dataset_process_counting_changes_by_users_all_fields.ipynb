{
 "cells": [
  {
   "cell_type": "code",
   "execution_count": 1,
   "metadata": {},
   "outputs": [
    {
     "data": {
      "text/plain": [
       "MongoClient(host=['127.0.0.1:27017'], document_class=dict, tz_aware=False, connect=True, read_preference=Primary(), uuidrepresentation=3)"
      ]
     },
     "execution_count": 1,
     "metadata": {},
     "output_type": "execute_result"
    }
   ],
   "source": [
    "from mongoengine import connect\n",
    "import math\n",
    "import json\n",
    "import copy\n",
    "import sys\n",
    "sys.path.insert(0, '..\\\\mongo-db-scripts')\n",
    "from Bug import Bug\n",
    "\n",
    "connect('bug_reports_db', host='127.0.0.1', port=27017)"
   ]
  },
  {
   "cell_type": "code",
   "execution_count": 2,
   "metadata": {},
   "outputs": [],
   "source": [
    "bugs_counting_changes = []\n",
    "temp_bug_init = { 'reporter': 0, 'others': 0 }\n",
    "\n",
    "def count_changes(bug):\n",
    "  counted_changes = copy.deepcopy(temp_bug_init)\n",
    "\n",
    "  for changes in bug['history']:\n",
    "    changes_size = len(changes['changes'])\n",
    "\n",
    "    if (changes['who'] == bug['creator']):\n",
    "      user_type = 'reporter'\n",
    "    else:\n",
    "      user_type = 'others'\n",
    "    \n",
    "    counted_changes[user_type] += changes_size\n",
    "      \n",
    "  return counted_changes"
   ]
  },
  {
   "cell_type": "code",
   "execution_count": null,
   "metadata": {},
   "outputs": [],
   "source": [
    "BUGS_LIMIT = 50000\n",
    "total_bugs = Bug.objects.count()\n",
    "bugs_per_iteration = math.ceil(total_bugs/BUGS_LIMIT)\n",
    "\n",
    "for i in range(bugs_per_iteration):\n",
    "  skip_quantity = i * BUGS_LIMIT\n",
    "  result = Bug.objects.only('bug_id', 'history', 'creator').limit(BUGS_LIMIT).skip(skip_quantity)\n",
    "\n",
    "  bugs = [bug.to_mongo().to_dict() for bug in result]\n",
    "\n",
    "  for bug in bugs:\n",
    "    temp_bug = count_changes(bug)\n",
    "    temp_bug['bug_id'] = bug['bug_id']\n",
    "    bugs_counting_changes.append(temp_bug)\n",
    "                    "
   ]
  },
  {
   "cell_type": "code",
   "execution_count": 6,
   "metadata": {},
   "outputs": [],
   "source": [
    "with open('data\\\\processed_bugs_counting_changes_users_all_fields_final.json', 'w') as output:\n",
    "  json.dump(bugs_counting_changes, output)"
   ]
  }
 ],
 "metadata": {
  "kernelspec": {
   "display_name": "Python 3.9.13 64-bit",
   "language": "python",
   "name": "python3"
  },
  "language_info": {
   "codemirror_mode": {
    "name": "ipython",
    "version": 3
   },
   "file_extension": ".py",
   "mimetype": "text/x-python",
   "name": "python",
   "nbconvert_exporter": "python",
   "pygments_lexer": "ipython3",
   "version": "3.9.13"
  },
  "orig_nbformat": 4,
  "vscode": {
   "interpreter": {
    "hash": "1f2de058d7ebaa32d79cad43f3c868bd4b0213631c06cc735fbd6f200c37b41b"
   }
  }
 },
 "nbformat": 4,
 "nbformat_minor": 2
}
