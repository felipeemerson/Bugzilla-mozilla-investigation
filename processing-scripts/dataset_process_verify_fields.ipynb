{
 "cells": [
  {
   "cell_type": "code",
   "execution_count": 1,
   "metadata": {},
   "outputs": [
    {
     "data": {
      "text/plain": [
       "MongoClient(host=['127.0.0.1:27017'], document_class=dict, tz_aware=False, connect=True, read_preference=Primary(), uuidrepresentation=3)"
      ]
     },
     "execution_count": 1,
     "metadata": {},
     "output_type": "execute_result"
    }
   ],
   "source": [
    "from Bug import Bug\n",
    "from mongoengine import connect\n",
    "import math\n",
    "import json\n",
    "\n",
    "connect('bug_reports_db', host='127.0.0.1', port=27017)"
   ]
  },
  {
   "cell_type": "code",
   "execution_count": 4,
   "metadata": {},
   "outputs": [],
   "source": [
    "def verify_fields(bug):\n",
    "  for changes in bug['history']:\n",
    "    for change in changes['changes']:\n",
    "      field_name = change['field_name']\n",
    "\n",
    "      if (field_name not in all_fields_name):\n",
    "        all_fields.append({ 'name': field_name, 'bug_id': bug['bug_id'] })\n",
    "        all_fields_name.append(field_name)\n",
    "\n",
    "all_fields = []\n",
    "all_fields_name = []"
   ]
  },
  {
   "cell_type": "code",
   "execution_count": 5,
   "metadata": {},
   "outputs": [
    {
     "name": "stdout",
     "output_type": "stream",
     "text": [
      "Iterarions needed: 14\n",
      "Qnt. de bugs nesta iteração: 50000\n",
      "Iteration 0\n",
      "Qnt. de bugs nesta iteração: 50000\n",
      "Iteration 1\n",
      "Qnt. de bugs nesta iteração: 50000\n",
      "Iteration 2\n",
      "Qnt. de bugs nesta iteração: 50000\n",
      "Iteration 3\n",
      "Qnt. de bugs nesta iteração: 50000\n",
      "Iteration 4\n",
      "Qnt. de bugs nesta iteração: 50000\n",
      "Iteration 5\n",
      "Qnt. de bugs nesta iteração: 50000\n",
      "Iteration 6\n",
      "Qnt. de bugs nesta iteração: 50000\n",
      "Iteration 7\n",
      "Qnt. de bugs nesta iteração: 50000\n",
      "Iteration 8\n",
      "Qnt. de bugs nesta iteração: 50000\n",
      "Iteration 9\n",
      "Qnt. de bugs nesta iteração: 50000\n",
      "Iteration 10\n",
      "Qnt. de bugs nesta iteração: 50000\n",
      "Iteration 11\n",
      "Qnt. de bugs nesta iteração: 50000\n",
      "Iteration 12\n",
      "Qnt. de bugs nesta iteração: 40817\n",
      "Iteration 13\n"
     ]
    }
   ],
   "source": [
    "BUGS_LIMIT = 50000\n",
    "total_bugs = Bug.objects.count()\n",
    "bugs_per_iteration = math.ceil(total_bugs/BUGS_LIMIT)\n",
    "\n",
    "print(f'Iterarions needed: {bugs_per_iteration}')\n",
    "\n",
    "for i in range(bugs_per_iteration):\n",
    "  skip_quantity = i * BUGS_LIMIT\n",
    "  result = Bug.objects.only('bug_id', 'history').limit(BUGS_LIMIT).skip(skip_quantity)\n",
    "\n",
    "  bugs = [bug.to_mongo().to_dict() for bug in result]\n",
    "\n",
    "  print(f'Qnt. de bugs nesta iteração: {len(bugs)}')\n",
    "\n",
    "  for bug in bugs:\n",
    "    verify_fields(bug)\n",
    "    \n",
    "  print(f\"Iteration {i}\")\n",
    "                    "
   ]
  },
  {
   "cell_type": "code",
   "execution_count": 6,
   "metadata": {},
   "outputs": [],
   "source": [
    "with open('verify_fields_final.json', 'w') as outfile:\n",
    "  json.dump(all_fields, outfile) "
   ]
  }
 ],
 "metadata": {
  "kernelspec": {
   "display_name": "Python 3.9.13 64-bit",
   "language": "python",
   "name": "python3"
  },
  "language_info": {
   "codemirror_mode": {
    "name": "ipython",
    "version": 3
   },
   "file_extension": ".py",
   "mimetype": "text/x-python",
   "name": "python",
   "nbconvert_exporter": "python",
   "pygments_lexer": "ipython3",
   "version": "3.9.13"
  },
  "orig_nbformat": 4,
  "vscode": {
   "interpreter": {
    "hash": "1f2de058d7ebaa32d79cad43f3c868bd4b0213631c06cc735fbd6f200c37b41b"
   }
  }
 },
 "nbformat": 4,
 "nbformat_minor": 2
}
