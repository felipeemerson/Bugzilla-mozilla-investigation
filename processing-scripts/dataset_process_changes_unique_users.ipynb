{
 "cells": [
  {
   "cell_type": "code",
   "execution_count": 7,
   "metadata": {},
   "outputs": [
    {
     "data": {
      "text/plain": [
       "MongoClient(host=['127.0.0.1:27017'], document_class=dict, tz_aware=False, connect=True, read_preference=Primary(), uuidrepresentation=3)"
      ]
     },
     "execution_count": 7,
     "metadata": {},
     "output_type": "execute_result"
    }
   ],
   "source": [
    "from mongoengine import connect\n",
    "import math\n",
    "import json\n",
    "import sys\n",
    "sys.path.insert(0, '..\\\\mongo-db-scripts')\n",
    "from Bug import Bug\n",
    "\n",
    "connect('bug_reports_db', host='127.0.0.1', port=27017)"
   ]
  },
  {
   "cell_type": "code",
   "execution_count": 7,
   "metadata": {},
   "outputs": [],
   "source": [
    "def count_unique_users_and_modifications(history):\n",
    "  unique_users = 0\n",
    "  total_modifications = 0\n",
    "  users = []\n",
    "\n",
    "  for modifications in history:\n",
    "    total_modifications += 1\n",
    "\n",
    "    current_user = modifications['who']\n",
    "\n",
    "    if current_user not in users:\n",
    "      unique_users += 1\n",
    "      users.append(current_user)\n",
    "      \n",
    "  return { 'unique_users': unique_users, 'modifications': total_modifications }"
   ]
  },
  {
   "cell_type": "code",
   "execution_count": null,
   "metadata": {},
   "outputs": [],
   "source": [
    "BUGS_LIMIT = 50000\n",
    "total_bugs = Bug.objects.count()\n",
    "bugs_per_iteration = math.ceil(total_bugs/BUGS_LIMIT)\n",
    "\n",
    "bugs_unique_users = []\n",
    "\n",
    "for i in range(bugs_per_iteration):\n",
    "  skip_quantity = i * BUGS_LIMIT\n",
    "  result = Bug.objects.only('bug_id', 'history').limit(BUGS_LIMIT).skip(skip_quantity)\n",
    "\n",
    "  bugs = [bug.to_mongo().to_dict() for bug in result]\n",
    "\n",
    "  for bug in bugs:\n",
    "    temp_bug = count_unique_users_and_modifications(bug['history'])\n",
    "    temp_bug['bug_id'] = bug['bug_id']\n",
    "    bugs_unique_users.append(temp_bug)\n",
    "                    "
   ]
  },
  {
   "cell_type": "code",
   "execution_count": 10,
   "metadata": {},
   "outputs": [],
   "source": [
    "with open('data\\\\processed_bugs_changes_unique_users.json', 'w') as output:\n",
    "  json.dump(bugs_unique_users, output)"
   ]
  }
 ],
 "metadata": {
  "kernelspec": {
   "display_name": "Python 3.9.13 64-bit",
   "language": "python",
   "name": "python3"
  },
  "language_info": {
   "codemirror_mode": {
    "name": "ipython",
    "version": 3
   },
   "file_extension": ".py",
   "mimetype": "text/x-python",
   "name": "python",
   "nbconvert_exporter": "python",
   "pygments_lexer": "ipython3",
   "version": "3.9.13"
  },
  "orig_nbformat": 4,
  "vscode": {
   "interpreter": {
    "hash": "1f2de058d7ebaa32d79cad43f3c868bd4b0213631c06cc735fbd6f200c37b41b"
   }
  }
 },
 "nbformat": 4,
 "nbformat_minor": 2
}
