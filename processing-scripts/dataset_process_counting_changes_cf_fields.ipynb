{
 "cells": [
  {
   "cell_type": "code",
   "execution_count": 25,
   "metadata": {},
   "outputs": [],
   "source": [
    "from mongoengine import connect\n",
    "import math\n",
    "import json\n",
    "import copy\n",
    "import sys\n",
    "sys.path.insert(0, '..\\\\mongo-db-scripts')\n",
    "from Bug import Bug\n",
    "\n",
    "connect('bug_reports_db', host='127.0.0.1', port=27017)\n",
    "\n",
    "with open('data\\\\processed_verify_fields_final.json') as input:\n",
    "  fields = json.load(input)"
   ]
  },
  {
   "cell_type": "code",
   "execution_count": 26,
   "metadata": {},
   "outputs": [],
   "source": [
    "fields_presence_count = {}\n",
    "current_fields_presence = {}\n",
    "\n",
    "fields = [field['name'] for field in fields]\n",
    "fields = list(filter(lambda field: field.startswith('cf_'), fields))\n",
    "\n",
    "for field in fields:\n",
    "  fields_presence_count[field] = 0\n",
    "  current_fields_presence[field] = False\n",
    "\n",
    "def verify_cfs_presence(history):\n",
    "  current_presence = copy.deepcopy(current_fields_presence)\n",
    "\n",
    "  for changes in history:\n",
    "    for change in changes['changes']:\n",
    "      field_name = change['field_name']\n",
    "\n",
    "      if (field_name not in fields):\n",
    "        continue\n",
    "      \n",
    "      current_presence[field_name] = True\n",
    "  \n",
    "  for field in fields_presence_count.keys():\n",
    "    if current_presence[field]:\n",
    "      fields_presence_count[field] += 1"
   ]
  },
  {
   "cell_type": "code",
   "execution_count": null,
   "metadata": {},
   "outputs": [],
   "source": [
    "BUGS_LIMIT = 50000\n",
    "total_bugs = Bug.objects.count()\n",
    "bugs_per_iteration = math.ceil(total_bugs/BUGS_LIMIT)\n",
    "\n",
    "bugs_counting_changes = []\n",
    "temp_bug_init = {}\n",
    "\n",
    "for field in fields:\n",
    "  temp_bug_init[field] = 0\n",
    "\n",
    "for i in range(bugs_per_iteration):\n",
    "  skip_quantity = i * BUGS_LIMIT\n",
    "  result = Bug.objects.only('bug_id', 'history').limit(BUGS_LIMIT).skip(skip_quantity)\n",
    "\n",
    "  bugs = [bug.to_mongo().to_dict() for bug in result]\n",
    "\n",
    "  for bug in bugs:\n",
    "    verify_cfs_presence(bug['history'])\n",
    "                    "
   ]
  },
  {
   "cell_type": "code",
   "execution_count": 29,
   "metadata": {},
   "outputs": [],
   "source": [
    "with open('data\\\\processed_bugs_cfs_presence.json', 'w') as output:\n",
    "  json.dump(fields_presence_count, output)"
   ]
  }
 ],
 "metadata": {
  "kernelspec": {
   "display_name": "Python 3.9.13 64-bit",
   "language": "python",
   "name": "python3"
  },
  "language_info": {
   "codemirror_mode": {
    "name": "ipython",
    "version": 3
   },
   "file_extension": ".py",
   "mimetype": "text/x-python",
   "name": "python",
   "nbconvert_exporter": "python",
   "pygments_lexer": "ipython3",
   "version": "3.9.13"
  },
  "orig_nbformat": 4,
  "vscode": {
   "interpreter": {
    "hash": "1f2de058d7ebaa32d79cad43f3c868bd4b0213631c06cc735fbd6f200c37b41b"
   }
  }
 },
 "nbformat": 4,
 "nbformat_minor": 2
}
