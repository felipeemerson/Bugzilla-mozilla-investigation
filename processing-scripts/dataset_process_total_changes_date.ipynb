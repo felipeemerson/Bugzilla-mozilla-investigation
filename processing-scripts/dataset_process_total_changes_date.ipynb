{
 "cells": [
  {
   "cell_type": "code",
   "execution_count": 21,
   "metadata": {},
   "outputs": [],
   "source": [
    "from mongoengine import connect\n",
    "from datetime import datetime\n",
    "import math\n",
    "import json\n",
    "import copy\n",
    "import pandas as pd\n",
    "import sys\n",
    "sys.path.insert(0, '..\\\\mongo-db-scripts')\n",
    "from Bug import Bug\n",
    "\n",
    "connect('bug_reports_db', host='127.0.0.1', port=27017)\n",
    "\n",
    "with open('data\\\\fields_name_not_cf.json') as input:\n",
    "  fields = json.load(input)\n",
    "\n",
    "with open('data\\\\bugs_id_creationtime_dict.json') as input:\n",
    "  bugs_creation_dict = json.load(input)"
   ]
  },
  {
   "cell_type": "code",
   "execution_count": 22,
   "metadata": {},
   "outputs": [],
   "source": [
    "DATE_FORMAT = '%Y-%m-%dT%H:%M:%SZ'\n",
    "\n",
    "intervals = ['up to 1h', 'up to 12h', 'up to 1 week', 'total']\n",
    "bugs_total_changes = []\n",
    "temp_bug_init = {\n",
    "  'up to 1h': 0,\n",
    "  'up to 12h': 0,\n",
    "  'up to 1 week': 0,\n",
    "  'total': 0\n",
    "}\n",
    "\n",
    "def get_interval(creation_date, when_changed):\n",
    "  creation_date = datetime.strptime(creation_date, DATE_FORMAT)\n",
    "  when_changed = datetime.strptime(when_changed, DATE_FORMAT)\n",
    "\n",
    "  up_to_1h = creation_date + pd.DateOffset(hours=1)\n",
    "  up_to_12h = creation_date + pd.DateOffset(hours=12)\n",
    "  up_to_week = creation_date + pd.DateOffset(days=7)\n",
    "\n",
    "  if (when_changed <= up_to_1h):\n",
    "    return 0\n",
    "  elif (when_changed <= up_to_12h):\n",
    "    return 1\n",
    "  elif (when_changed <= up_to_week):\n",
    "    return 2\n",
    "  else:\n",
    "    return 3\n",
    "\n",
    "def count_changes(bug):\n",
    "  bug_id = str(bug['bug_id'])\n",
    "\n",
    "  if bug_id not in bugs_creation_dict:\n",
    "    return {}\n",
    "  \n",
    "  counted_changes = copy.deepcopy(temp_bug_init)\n",
    "\n",
    "  for changes in bug['history']:\n",
    "\n",
    "    current_interval_index = get_interval(bugs_creation_dict[bug_id], changes['when'])\n",
    "\n",
    "    for change in changes['changes']:\n",
    "      field_name = change['field_name']\n",
    "\n",
    "      if (field_name not in fields):\n",
    "        continue\n",
    "      \n",
    "      for i in range(current_interval_index, len(intervals)):\n",
    "        counted_changes[intervals[i]] += 1\n",
    "      \n",
    "  return counted_changes"
   ]
  },
  {
   "cell_type": "code",
   "execution_count": null,
   "metadata": {},
   "outputs": [],
   "source": [
    "BUGS_LIMIT = 50000\n",
    "total_bugs = Bug.objects.count()\n",
    "bugs_per_iteration = math.ceil(total_bugs/BUGS_LIMIT)\n",
    "\n",
    "for i in range(bugs_per_iteration):\n",
    "  skip_quantity = i * BUGS_LIMIT\n",
    "  result = Bug.objects.only('bug_id', 'history').limit(BUGS_LIMIT).skip(skip_quantity)\n",
    "\n",
    "  bugs = [bug.to_mongo().to_dict() for bug in result]\n",
    "\n",
    "  for bug in bugs:\n",
    "    temp_bug = count_changes(bug)\n",
    "    temp_bug['bug_id'] = bug['bug_id']\n",
    "    bugs_total_changes.append(temp_bug)"
   ]
  },
  {
   "cell_type": "code",
   "execution_count": 24,
   "metadata": {},
   "outputs": [],
   "source": [
    "with open('data\\\\processed_bugs_total_changes_date.json', 'w') as output:\n",
    "  json.dump(bugs_total_changes, output)"
   ]
  }
 ],
 "metadata": {
  "kernelspec": {
   "display_name": "Python 3.9.13 64-bit",
   "language": "python",
   "name": "python3"
  },
  "language_info": {
   "codemirror_mode": {
    "name": "ipython",
    "version": 3
   },
   "file_extension": ".py",
   "mimetype": "text/x-python",
   "name": "python",
   "nbconvert_exporter": "python",
   "pygments_lexer": "ipython3",
   "version": "3.9.13"
  },
  "orig_nbformat": 4,
  "vscode": {
   "interpreter": {
    "hash": "1f2de058d7ebaa32d79cad43f3c868bd4b0213631c06cc735fbd6f200c37b41b"
   }
  }
 },
 "nbformat": 4,
 "nbformat_minor": 2
}
